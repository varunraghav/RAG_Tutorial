{
 "cells": [
  {
   "cell_type": "code",
   "execution_count": 1,
   "id": "df9d82af",
   "metadata": {},
   "outputs": [
    {
     "name": "stdout",
     "output_type": "stream",
     "text": [
      "Enter your Open API key: ········\n"
     ]
    }
   ],
   "source": [
    "import os\n",
    "import getpass\n",
    "\n",
    "os.environ['OPENAI_API_KEY'] = getpass.getpass(\"Enter your Open API key: \")"
   ]
  },
  {
   "cell_type": "code",
   "execution_count": 2,
   "id": "fd16b7eb",
   "metadata": {},
   "outputs": [
    {
     "name": "stdout",
     "output_type": "stream",
     "text": [
      "Enter your Llama Cloud API key: ········\n"
     ]
    }
   ],
   "source": [
    "# Use getpass.getpass() to prompt for the API key securely\n",
    "os.environ[\"LLAMA_CLOUD_API_KEY\"] = getpass.getpass(\"Enter your Llama Cloud API key: \")"
   ]
  },
  {
   "cell_type": "code",
   "execution_count": 3,
   "id": "e1aa9524",
   "metadata": {},
   "outputs": [
    {
     "name": "stdout",
     "output_type": "stream",
     "text": [
      "Enter your Spider API key: ········\n"
     ]
    }
   ],
   "source": [
    "spider_api_key = getpass.getpass(\"Enter your Spider API key: \")"
   ]
  },
  {
   "cell_type": "code",
   "execution_count": 4,
   "id": "1f5e3cb0",
   "metadata": {},
   "outputs": [],
   "source": [
    "from llama_index.core import VectorStoreIndex, SimpleDirectoryReader, Settings\n",
    "from llama_index.core.node_parser import SentenceSplitter\n",
    "from llama_index.core import StorageContext, load_index_from_storage\n",
    "from llama_index.core import SummaryIndex\n",
    "from llama_index.core import Document\n",
    "from llama_index.core import get_response_synthesizer\n",
    "from llama_index.core.retrievers import VectorIndexRetriever\n",
    "from llama_index.core.query_engine import RetrieverQueryEngine\n",
    "from llama_index.llms.openai import OpenAI\n",
    "\n",
    "from llama_index.core.postprocessor import SimilarityPostprocessor\n",
    "from llama_index.core.postprocessor import KeywordNodePostprocessor\n",
    "\n",
    "from llama_index.core.tools import QueryEngineTool\n",
    "from llama_index.core.tools import FunctionTool\n",
    "\n",
    "from llama_index.core.agent import ReActAgent\n",
    "\n",
    "\n",
    "from llama_index.readers.web import SimpleWebPageReader\n",
    "from llama_index.readers.web import SpiderWebReader\n",
    "\n",
    "from IPython.display import Markdown, display\n",
    "\n",
    "from llama_parse import LlamaParse\n",
    "\n",
    "import logging\n",
    "import sys\n",
    "import nest_asyncio\n"
   ]
  },
  {
   "cell_type": "code",
   "execution_count": 11,
   "id": "696c1014",
   "metadata": {},
   "outputs": [],
   "source": [
    "import json"
   ]
  },
  {
   "cell_type": "code",
   "execution_count": 7,
   "id": "2cb8b5f9",
   "metadata": {},
   "outputs": [
    {
     "data": {
      "text/plain": [
       "[Document(id_='a334a475-294c-47a5-b377-093ce44b216c', embedding=None, metadata={'description': '', 'domain': 'r.jina.ai', 'extracted_data': None, 'file_size': 8634, 'keywords': None, 'pathname': '/https://www.delta.com/us/en/baggage/carry-on-baggage?srsltid=AfmBOopJ1ha7OEiwm46qaLxEQ_tvi6lrtK7NOxt0dttocsarTY1-pm1V', 'resource_type': '.md', 'title': '', 'url': None, 'user_id': '5600b1d3-d5ea-4943-8739-c84ddd149cae'}, excluded_embed_metadata_keys=[], excluded_llm_metadata_keys=[], relationships={}, metadata_template='{key}: {value}', metadata_separator='\\n', text_resource=MediaResource(embeddings=None, data=None, text='Title: Carry-On Baggage | Delta Air Lines\\n\\nURL Source: https://www.delta.com/us/en/baggage/carry-on-baggage?srsltid=AfmBOopJ1ha7OEiwm46qaLxEQ_tvi6lrtK7NOxt0dttocsarTY1-pm1V\\n\\nMarkdown Content:\\n* * *\\n\\nNot sure whether to check your bag or carry it on? Take a few minutes to learn the can-do and no-can-do rules of carry-on baggage. If you don’t want to carry-on, it’s still easy to [check your bag](https://www.delta.com/us/en/baggage/overview) if you prefer.\\n\\nEach passenger flying with Delta can bring 1 carry-on bag and 1 personal item free of charge (such as a purse, laptop bag or item of similar size that will fit underneath the seat in front of you). If you plan to bring roll-aboard luggage or a large bag to store in the overhead bin, you can find [size information, Go to footer note](https://www.delta.com/us/en/baggage/carry-on-baggage?srsltid=AfmBOopJ1ha7OEiwm46qaLxEQ_tvi6lrtK7NOxt0dttocsarTY1-pm1V#carryon) below. Note: Carry-on bag exceptions apply for passengers [traveling with an infant-in-arms](https://www.delta.com/us/en/children-infant-travel/overview) and for passengers [traveling with pets in the cabin](https://www.delta.com/us/en/pet-travel/overview).\\n\\nWhen packing, please remember that flight attendants are unable to proactively assist customers placing carry-on baggage into overhead bins, with certain exceptions. In addition to keeping customers and crew members safe and healthy, this change also protects flight attendants by decreasing the likelihood of injury caused by repetitive lifting.\\n\\n[Carrying On a Personal Item](https://www.delta.com/us/en/baggage/carry-on-baggage?srsltid=AfmBOopJ1ha7OEiwm46qaLxEQ_tvi6lrtK7NOxt0dttocsarTY1-pm1V#expander-image-panel-tent_parsys_expander_0)\\n\\nReview the following guidelines for approved personal items that you can bring, including items that are free to carry on like child safety seats.\\n\\n#### Approved Personal Items\\n\\nBringing a personal item? Pick an item like this or of a similar size to store beneath the seat in front of you during your flight.\\n\\n*   1 purse, briefcase, small backpack, camera bag or diaper bag\\n*   1 laptop bag (computers cannot be checked, unless directed to by security)\\n*   1 item of similar or smaller size to those listed\\n\\n#### Free Items to Carry On\\n\\nThese items are free to carry on your flight, in addition to your usual carry-on items. Flight attendants can assist you with larger items, like strollers.\\n\\n*   A jacket and/or umbrella\\n*   Food or drink purchased past the security checkpoint\\n*   Duty-free merchandise\\n*   Special items like [strollers](https://www.delta.com/us/en/children-infant-travel/children-infant-baggage), [wheelchairs](https://www.delta.com/us/en/accessible-travel-services/wheelchair-services), [child safety seats](https://www.delta.com/us/en/children-infant-travel/children-infant-baggage) or [assistive devices](https://www.delta.com/us/en/accessible-travel-services/assistive-devices-medication), like crutches\\n\\n[Carry-On Size Restrictions](https://www.delta.com/us/en/baggage/carry-on-baggage?srsltid=AfmBOopJ1ha7OEiwm46qaLxEQ_tvi6lrtK7NOxt0dttocsarTY1-pm1V#expander-image-panel-tent_parsys_expander_1)\\n\\nWhether it’s a duffel for an overnight trip or a roll-aboard bag for a much longer stay, arrive knowing that you can easily store your bag in an overhead bin. The faster you can stow your bag, the faster your flight will be on its way.\\n\\nMake sure your bag fits this size or reference size check displays located at ticket counters and gates.\\n\\n*   Combined length + width + height of baggage must not exceed 45 linear inches (114 cm)\\n*   Individual length, width and height measurements may not exceed 22” x 14” x 9” (56 cm x 35 cm x 23 cm) respectively\\n*   These measurements include any handles or wheels, but do not apply to small musical instruments that fit in the overhead or under-seat space\\n\\n*   If your bag doesn’t fit or an exceptionally-full flight is short on overhead bin space, a flight attendant or gate agent can assist you by checking your bags at the gate.\\n*   Passengers traveling on Delta Connection flights, including flights with 50 seats or less, are only permitted to carry personal items on board the aircraft due to limited overhead space. Personal items must be able to fit securely under the seat in front of the passenger or overhead bins. Due to crowded flights, some carry-on bags may be gate checked, free of charge, during the boarding process and returned upon deplaning. Please ensure that a pink Gate Claim/Planeside tag is securely attached to the carry-on item. Assistive devices are not subject to this restriction.\\n*   If you need information about potentially hazardous or irregular items, like knitting needles or razors, please [consult the TSA for updated guidelines](https://www.tsa.gov/).\\n*   Airline Partner Notice: Our SkyTeam and codeshare partners may have different guidelines and restrictions on certain flights, so be sure to check before you check in.  \\n    \\n\\n[What’s Allowed in Your Carry-On?](https://www.delta.com/us/en/baggage/carry-on-baggage?srsltid=AfmBOopJ1ha7OEiwm46qaLxEQ_tvi6lrtK7NOxt0dttocsarTY1-pm1V#expander-image-panel-tent_parsys_expander_3)\\n\\nWhile many things are allowed in your carry-on and personal item when you travel, be sure to consider things that are limited for your safety. Most countries restrict the size of containers with liquids, gels, aerosols and pastes — even in partially empty containers during security. Pack ahead of time and place larger liquid items in your checked luggage.\\n\\n*   Limit liquids, gels, aerosols and pastes items to a maximum of 3.4 ounces or 100 milliliters\\n*   Place all items in one single quart-size, zip-top bag of clear plastic\\n*   At security, remove your quart-size bag and place it in a bin\\n\\n_Liquids, gels, aerosols and pastes include anything like beverages, creams, hair gel, hair spray, shampoo, suntan lotions, toothpaste or any item of similar consistency. Special provisions are usually made by the TSA for necessary items such as medication, breast milk, and juice or formula for infants - which can receive a special screening for your convenience._\\n\\n[Review TSA Guidelines](https://www.tsa.gov/)\\n\\n[Bringing a Duty-Free Item](https://www.delta.com/us/en/baggage/carry-on-baggage?srsltid=AfmBOopJ1ha7OEiwm46qaLxEQ_tvi6lrtK7NOxt0dttocsarTY1-pm1V#expander-image-panel-tent_parsys_expander_4)\\n\\nSome countries have a program that lets you purchase duty-free items, which are placed in specially sealed bags by the vendor. You can then travel within that country or region with your item in your possession or in your carry-on.\\n\\nIf your travel takes you through a security check-in in a country that does not recognize the same program, you may or may not have the opportunity to place the item in your checked baggage. If you are unable to place the item in your checked baggage, it may be confiscated.\\n\\nFor specific guidelines, visit the U.S. [Transportation Security Administration](https://www.tsa.gov/), the United Kingdom’s [Department for Transport](https://www.gov.uk/government/organisations/department-for-transport) or the [European Union’s European Commission](https://ec.europa.eu/commission/presscorner/detail/en/IP_08_1845).\\n\\n[Frequently Asked Questions](https://www.delta.com/us/en/baggage/carry-on-baggage?srsltid=AfmBOopJ1ha7OEiwm46qaLxEQ_tvi6lrtK7NOxt0dttocsarTY1-pm1V#expander-image-panel-tent_parsys_expander_5)\\n\\n#### **How many bags may I carry on?**  \\n\\nYou may bring one carry-on item onboard the aircraft, plus one personal item. See our [carry-on allowance](https://www.delta.com/us/en/baggage/carry-on-baggage) for further information.\\n\\nPassengers travelling on Delta Connection flights with 50 seats or less are permitted to carry personal items onboard the aircraft. Due to limited overhead and under seat space, larger items will be tagged with a pink Gate Claim/Planeside tag and loaded in the cargo bin. These bags will be returned to the passenger upon deplaning.\\n\\nAll carry-on items must meet Federal Aviation Administration (FAA) regulations and may not exceed 22\" x 14\" x 9\". The FAA mandates that all carry-on items fit under a seat or in an enclosed storage compartment.\\n\\nOur gate or flight personnel may need to further limit the amount of carry-on baggage for a particular flight, depending on the cabin storage capacity of the plane and the expected number of passengers.\\n\\n**Are carry-on items included in Delta\\'s Baggage Liability?**\\n\\nWe do not assume liability for unchecked items unless they are given to our personnel for storage during the flight or otherwise delivered into our custody for travel.\\n', mimetype=None, path=None, url=None), image_resource=None, audio_resource=None, video_resource=None, text_template='{metadata_str}\\n\\n{content}')]"
      ]
     },
     "execution_count": 7,
     "metadata": {},
     "output_type": "execute_result"
    }
   ],
   "source": [
    "spider_reader = SpiderWebReader(\n",
    "    api_key= spider_api_key,  # Get one at https://spider.cloud\n",
    "    mode=\"scrape\",\n",
    "    # params={} # Optional parameters see more on https://spider.cloud/docs/api\n",
    ")\n",
    "\n",
    "\n",
    "documents_delta = spider_reader.load_data(url=\"https://r.jina.ai/https://www.delta.com/us/en/baggage/carry-on-baggage?srsltid=AfmBOopJ1ha7OEiwm46qaLxEQ_tvi6lrtK7NOxt0dttocsarTY1-pm1V\")\n",
    "documents_delta"
   ]
  },
  {
   "cell_type": "markdown",
   "id": "0dfe244a",
   "metadata": {},
   "source": [
    "# Pydantic Class"
   ]
  },
  {
   "cell_type": "code",
   "execution_count": 8,
   "id": "9b6d306a",
   "metadata": {},
   "outputs": [],
   "source": [
    "from pydantic import BaseModel\n",
    "from typing import List, Optional\n",
    "\n",
    "# Define Pydantic model for a rule entry\n",
    "class Rule(BaseModel):\n",
    "    item: str\n",
    "    allowed_quantity: str\n",
    "    exemption: Optional[str] = None\n",
    "\n",
    "# Define a model for a collection of rules\n",
    "class RulesDocument(BaseModel):\n",
    "    rules: List[Rule]\n"
   ]
  },
  {
   "cell_type": "code",
   "execution_count": 9,
   "id": "b393899b",
   "metadata": {},
   "outputs": [],
   "source": [
    "from pydantic import ValidationError\n",
    "\n",
    "# Set up LLM\n",
    "llm = OpenAI(model_name=\"gpt-4o-mini\", temperature=0.1)\n",
    "\n",
    "# Step 3: Use documents_delta to create an index\n",
    "index = VectorStoreIndex.from_documents(documents_delta)\n",
    "query_engine = index.as_query_engine()\n",
    "\n",
    "# Step 4: Query the document for structured data\n",
    "query = \"\"\"\n",
    "Extract the following structured data from the rules document as a JSON array:\n",
    "- \"item\": name of the item\n",
    "- \"allowed_quantity\": the allowed quantity\n",
    "- \"exemption\": any relaxation/exemption condition (if applicable).\n",
    "\"\"\"\n",
    "response = query_engine.query(query)"
   ]
  },
  {
   "cell_type": "code",
   "execution_count": 13,
   "id": "32f6e366",
   "metadata": {},
   "outputs": [
    {
     "name": "stdout",
     "output_type": "stream",
     "text": [
      "Validated Structured Data:\n",
      "{\n",
      "  \"rules\": [\n",
      "    {\n",
      "      \"item\": \"liquids, gels, aerosols and pastes\",\n",
      "      \"allowed_quantity\": \"maximum of 3.4 ounces or 100 milliliters\",\n",
      "      \"exemption\": \"Special provisions for necessary items such as medication, breast milk, and juice or formula for infants\"\n",
      "    },\n",
      "    {\n",
      "      \"item\": \"personal items\",\n",
      "      \"allowed_quantity\": \"1 purse, briefcase, small backpack, camera bag or diaper bag; 1 laptop bag; 1 item of similar or smaller size\",\n",
      "      \"exemption\": \"Flight attendants can assist with larger items like strollers\"\n",
      "    },\n",
      "    {\n",
      "      \"item\": \"free items to carry on\",\n",
      "      \"allowed_quantity\": \"A jacket and/or umbrella; Food or drink purchased past the security checkpoint; Duty-free merchandise; Special items like strollers, wheelchairs, child safety seats, assistive devices like crutches\",\n",
      "      \"exemption\": null\n",
      "    }\n",
      "  ]\n",
      "}\n"
     ]
    }
   ],
   "source": [
    "import json\n",
    "\n",
    "# Validate and print the structured data\n",
    "try:\n",
    "    validated_data = RulesDocument(rules=extracted_data)\n",
    "    print(\"Validated Structured Data:\")\n",
    "    print(json.dumps(validated_data.model_dump(), indent=2))  # Correct way to format the output\n",
    "except ValidationError as e:\n",
    "    print(\"Validation Error:\", e)\n",
    "    print(\"Raw Extracted Data:\")\n",
    "    print(response.response)\n"
   ]
  },
  {
   "cell_type": "code",
   "execution_count": 16,
   "id": "6a49b817",
   "metadata": {},
   "outputs": [],
   "source": [
    "# Save validated data to a file\n",
    "with open(\"validated_rules.json\", \"w\") as f:\n",
    "    json.dump(validated_data.model_dump(), f, indent=2)  # Properly format and save the JSON\n"
   ]
  },
  {
   "cell_type": "markdown",
   "id": "1d7fc6d7",
   "metadata": {},
   "source": [
    "# Using Structured LLM"
   ]
  },
  {
   "cell_type": "markdown",
   "id": "5e39a93c",
   "metadata": {},
   "source": [
    "#### What It Does:\n",
    "The as_structured_llm() method creates a wrapper around the LLM that allows it to produce outputs directly mapped to a predefined structured schema (e.g., a Pydantic class like RulesDocument).\n",
    "This eliminates the need to manually parse or validate the LLM’s output because the output is automatically converted to the specified schema.\n",
    "\n",
    "#### Use Case in Your Scenario:\n",
    "If you are frequently using a specific schema (like RulesDocument), this feature can:\n",
    "\n",
    "1. Simplify the Workflow:\n",
    "2. Directly enforce structured responses without manually validating the output with Pydantic.\n",
    "3. Reduce Errors: Automatically ensure the response conforms to the schema, reducing the chance of malformed data"
   ]
  },
  {
   "cell_type": "code",
   "execution_count": 23,
   "id": "8507e129",
   "metadata": {},
   "outputs": [],
   "source": [
    "from llama_index.core.prompts import PromptTemplate\n",
    "\n"
   ]
  },
  {
   "cell_type": "code",
   "execution_count": 25,
   "id": "9088fdf3",
   "metadata": {},
   "outputs": [
    {
     "ename": "IndexError",
     "evalue": "list index out of range",
     "output_type": "error",
     "traceback": [
      "\u001b[0;31m---------------------------------------------------------------------------\u001b[0m",
      "\u001b[0;31mIndexError\u001b[0m                                Traceback (most recent call last)",
      "Cell \u001b[0;32mIn[25], line 19\u001b[0m\n\u001b[1;32m     17\u001b[0m \u001b[38;5;66;03m# Step 4: Use the structured LLM for prediction\u001b[39;00m\n\u001b[1;32m     18\u001b[0m \u001b[38;5;28;01mtry\u001b[39;00m:\n\u001b[0;32m---> 19\u001b[0m     response \u001b[38;5;241m=\u001b[39m sllm\u001b[38;5;241m.\u001b[39mstructured_predict(\n\u001b[1;32m     20\u001b[0m         documents\u001b[38;5;241m=\u001b[39mdocuments_delta,\n\u001b[1;32m     21\u001b[0m         prompt\u001b[38;5;241m=\u001b[39mprompt_template,  \u001b[38;5;66;03m# Use the structured prompt template\u001b[39;00m\n\u001b[1;32m     22\u001b[0m         output_cls\u001b[38;5;241m=\u001b[39mRulesDocument  \u001b[38;5;66;03m# Ensure output conforms to this schema\u001b[39;00m\n\u001b[1;32m     23\u001b[0m     )\n\u001b[1;32m     24\u001b[0m     \u001b[38;5;28mprint\u001b[39m(\u001b[38;5;124m\"\u001b[39m\u001b[38;5;124mValidated Structured Data:\u001b[39m\u001b[38;5;124m\"\u001b[39m)\n\u001b[1;32m     25\u001b[0m     \u001b[38;5;28mprint\u001b[39m(response\u001b[38;5;241m.\u001b[39mmodel_dump(indent\u001b[38;5;241m=\u001b[39m\u001b[38;5;241m2\u001b[39m))  \u001b[38;5;66;03m# Output validated data\u001b[39;00m\n",
      "File \u001b[0;32m~/anaconda3/lib/python3.11/site-packages/llama_index/core/instrumentation/dispatcher.py:321\u001b[0m, in \u001b[0;36mDispatcher.span.<locals>.wrapper\u001b[0;34m(func, instance, args, kwargs)\u001b[0m\n\u001b[1;32m    318\u001b[0m             _logger\u001b[38;5;241m.\u001b[39mdebug(\u001b[38;5;124mf\u001b[39m\u001b[38;5;124m\"\u001b[39m\u001b[38;5;124mFailed to reset active_span_id: \u001b[39m\u001b[38;5;132;01m{\u001b[39;00me\u001b[38;5;132;01m}\u001b[39;00m\u001b[38;5;124m\"\u001b[39m)\n\u001b[1;32m    320\u001b[0m \u001b[38;5;28;01mtry\u001b[39;00m:\n\u001b[0;32m--> 321\u001b[0m     result \u001b[38;5;241m=\u001b[39m func(\u001b[38;5;241m*\u001b[39margs, \u001b[38;5;241m*\u001b[39m\u001b[38;5;241m*\u001b[39mkwargs)\n\u001b[1;32m    322\u001b[0m     \u001b[38;5;28;01mif\u001b[39;00m \u001b[38;5;28misinstance\u001b[39m(result, asyncio\u001b[38;5;241m.\u001b[39mFuture):\n\u001b[1;32m    323\u001b[0m         \u001b[38;5;66;03m# If the result is a Future, wrap it\u001b[39;00m\n\u001b[1;32m    324\u001b[0m         new_future \u001b[38;5;241m=\u001b[39m asyncio\u001b[38;5;241m.\u001b[39mensure_future(result)\n",
      "File \u001b[0;32m~/anaconda3/lib/python3.11/site-packages/llama_index/core/llms/llm.py:374\u001b[0m, in \u001b[0;36mLLM.structured_predict\u001b[0;34m(self, output_cls, prompt, llm_kwargs, **prompt_args)\u001b[0m\n\u001b[1;32m    362\u001b[0m dispatcher\u001b[38;5;241m.\u001b[39mevent(\n\u001b[1;32m    363\u001b[0m     LLMStructuredPredictStartEvent(\n\u001b[1;32m    364\u001b[0m         output_cls\u001b[38;5;241m=\u001b[39moutput_cls, template\u001b[38;5;241m=\u001b[39mprompt, template_args\u001b[38;5;241m=\u001b[39mprompt_args\n\u001b[1;32m    365\u001b[0m     )\n\u001b[1;32m    366\u001b[0m )\n\u001b[1;32m    367\u001b[0m program \u001b[38;5;241m=\u001b[39m get_program_for_llm(\n\u001b[1;32m    368\u001b[0m     output_cls,\n\u001b[1;32m    369\u001b[0m     prompt,\n\u001b[1;32m    370\u001b[0m     \u001b[38;5;28mself\u001b[39m,\n\u001b[1;32m    371\u001b[0m     pydantic_program_mode\u001b[38;5;241m=\u001b[39m\u001b[38;5;28mself\u001b[39m\u001b[38;5;241m.\u001b[39mpydantic_program_mode,\n\u001b[1;32m    372\u001b[0m )\n\u001b[0;32m--> 374\u001b[0m result \u001b[38;5;241m=\u001b[39m program(llm_kwargs\u001b[38;5;241m=\u001b[39mllm_kwargs, \u001b[38;5;241m*\u001b[39m\u001b[38;5;241m*\u001b[39mprompt_args)\n\u001b[1;32m    375\u001b[0m dispatcher\u001b[38;5;241m.\u001b[39mevent(LLMStructuredPredictEndEvent(output\u001b[38;5;241m=\u001b[39mresult))\n\u001b[1;32m    376\u001b[0m \u001b[38;5;28;01mreturn\u001b[39;00m result\n",
      "File \u001b[0;32m~/anaconda3/lib/python3.11/site-packages/llama_index/core/instrumentation/dispatcher.py:321\u001b[0m, in \u001b[0;36mDispatcher.span.<locals>.wrapper\u001b[0;34m(func, instance, args, kwargs)\u001b[0m\n\u001b[1;32m    318\u001b[0m             _logger\u001b[38;5;241m.\u001b[39mdebug(\u001b[38;5;124mf\u001b[39m\u001b[38;5;124m\"\u001b[39m\u001b[38;5;124mFailed to reset active_span_id: \u001b[39m\u001b[38;5;132;01m{\u001b[39;00me\u001b[38;5;132;01m}\u001b[39;00m\u001b[38;5;124m\"\u001b[39m)\n\u001b[1;32m    320\u001b[0m \u001b[38;5;28;01mtry\u001b[39;00m:\n\u001b[0;32m--> 321\u001b[0m     result \u001b[38;5;241m=\u001b[39m func(\u001b[38;5;241m*\u001b[39margs, \u001b[38;5;241m*\u001b[39m\u001b[38;5;241m*\u001b[39mkwargs)\n\u001b[1;32m    322\u001b[0m     \u001b[38;5;28;01mif\u001b[39;00m \u001b[38;5;28misinstance\u001b[39m(result, asyncio\u001b[38;5;241m.\u001b[39mFuture):\n\u001b[1;32m    323\u001b[0m         \u001b[38;5;66;03m# If the result is a Future, wrap it\u001b[39;00m\n\u001b[1;32m    324\u001b[0m         new_future \u001b[38;5;241m=\u001b[39m asyncio\u001b[38;5;241m.\u001b[39mensure_future(result)\n",
      "File \u001b[0;32m~/anaconda3/lib/python3.11/site-packages/llama_index/core/program/function_program.py:164\u001b[0m, in \u001b[0;36mFunctionCallingProgram.__call__\u001b[0;34m(self, llm_kwargs, *args, **kwargs)\u001b[0m\n\u001b[1;32m    155\u001b[0m messages \u001b[38;5;241m=\u001b[39m \u001b[38;5;28mself\u001b[39m\u001b[38;5;241m.\u001b[39m_llm\u001b[38;5;241m.\u001b[39m_extend_messages(messages)\n\u001b[1;32m    157\u001b[0m agent_response \u001b[38;5;241m=\u001b[39m \u001b[38;5;28mself\u001b[39m\u001b[38;5;241m.\u001b[39m_llm\u001b[38;5;241m.\u001b[39mpredict_and_call(\n\u001b[1;32m    158\u001b[0m     [tool],\n\u001b[1;32m    159\u001b[0m     chat_history\u001b[38;5;241m=\u001b[39mmessages,\n\u001b[0;32m   (...)\u001b[0m\n\u001b[1;32m    162\u001b[0m     \u001b[38;5;241m*\u001b[39m\u001b[38;5;241m*\u001b[39mllm_kwargs,\n\u001b[1;32m    163\u001b[0m )\n\u001b[0;32m--> 164\u001b[0m \u001b[38;5;28;01mreturn\u001b[39;00m _parse_tool_outputs(\n\u001b[1;32m    165\u001b[0m     agent_response,\n\u001b[1;32m    166\u001b[0m     allow_parallel_tool_calls\u001b[38;5;241m=\u001b[39m\u001b[38;5;28mself\u001b[39m\u001b[38;5;241m.\u001b[39m_allow_parallel_tool_calls,\n\u001b[1;32m    167\u001b[0m )\n",
      "File \u001b[0;32m~/anaconda3/lib/python3.11/site-packages/llama_index/core/program/function_program.py:51\u001b[0m, in \u001b[0;36m_parse_tool_outputs\u001b[0;34m(agent_response, allow_parallel_tool_calls)\u001b[0m\n\u001b[1;32m     45\u001b[0m \u001b[38;5;28;01mif\u001b[39;00m \u001b[38;5;28mlen\u001b[39m(outputs) \u001b[38;5;241m>\u001b[39m \u001b[38;5;241m1\u001b[39m:\n\u001b[1;32m     46\u001b[0m     _logger\u001b[38;5;241m.\u001b[39mwarning(\n\u001b[1;32m     47\u001b[0m         \u001b[38;5;124m\"\u001b[39m\u001b[38;5;124mMultiple outputs found, returning first one. \u001b[39m\u001b[38;5;124m\"\u001b[39m\n\u001b[1;32m     48\u001b[0m         \u001b[38;5;124m\"\u001b[39m\u001b[38;5;124mIf you want to return all outputs, set output_multiple=True.\u001b[39m\u001b[38;5;124m\"\u001b[39m\n\u001b[1;32m     49\u001b[0m     )\n\u001b[0;32m---> 51\u001b[0m \u001b[38;5;28;01mreturn\u001b[39;00m outputs[\u001b[38;5;241m0\u001b[39m]\n",
      "\u001b[0;31mIndexError\u001b[0m: list index out of range"
     ]
    }
   ],
   "source": [
    "# Step 2: Define the LLM and structured LLM\n",
    "llm = OpenAI(model_name=\"gpt-4o\", temperature=0.1)\n",
    "sllm = llm.as_structured_llm(RulesDocument)\n",
    "\n",
    "# Step 3: Define the prompt template\n",
    "prompt_template = PromptTemplate(\n",
    "    template=\"\"\"\n",
    "    Extract structured data about items, allowed quantities, and exemptions from the given document.\n",
    "    Provide the data in JSON format conforming to the schema:\n",
    "    - \"item\": name of the item\n",
    "    - \"allowed_quantity\": the allowed quantity\n",
    "    - \"exemption\": any relaxation/exemption condition (if applicable).\n",
    "    Document: {documents}\n",
    "    \"\"\"\n",
    ")\n",
    "\n",
    "# Step 4: Use the structured LLM for prediction\n",
    "try:\n",
    "    response = sllm.structured_predict(\n",
    "        documents=documents_delta,\n",
    "        prompt=prompt_template,  # Use the structured prompt template\n",
    "        output_cls=RulesDocument  # Ensure output conforms to this schema\n",
    "    )\n",
    "    print(\"Validated Structured Data:\")\n",
    "    print(response.model_dump(indent=2))  # Output validated data\n",
    "except ValidationError as e:\n",
    "    print(\"Validation Error:\", e)"
   ]
  },
  {
   "cell_type": "code",
   "execution_count": 28,
   "id": "6c9685f0",
   "metadata": {},
   "outputs": [
    {
     "name": "stdout",
     "output_type": "stream",
     "text": [
      "Validated Structured Data:\n",
      "{\n",
      "  \"rules\": [\n",
      "    {\n",
      "      \"item\": \"Carry-On Bag\",\n",
      "      \"allowed_quantity\": \"1\",\n",
      "      \"exemption\": null\n",
      "    },\n",
      "    {\n",
      "      \"item\": \"Personal Item\",\n",
      "      \"allowed_quantity\": \"1\",\n",
      "      \"exemption\": \"Passengers traveling on Delta Connection flights with 50 seats or less are permitted to carry personal items onboard the aircraft\"\n",
      "    }\n",
      "  ]\n",
      "}\n"
     ]
    }
   ],
   "source": [
    "# Define the structured prompt\n",
    "prompt_template = PromptTemplate(\n",
    "    template=\"\"\"\n",
    "    Extract the following structured data from the document:\n",
    "    - \"item\": The name of the item.\n",
    "    - \"allowed_quantity\": The allowed quantity.\n",
    "    - \"exemption\": Any exemption condition.\n",
    "    Return the data in JSON format according to the schema.\n",
    "\n",
    "    Document: {documents}\n",
    "    \"\"\"\n",
    ")\n",
    "\n",
    "# Initialize the LLM\n",
    "llm = OpenAI(model_name=\"gpt-4o\", temperature=0.1)\n",
    "    \n",
    "\n",
    "# Step 4: Use the structured prediction\n",
    "try:\n",
    "    response = llm.structured_predict(\n",
    "        prompt=prompt_template,         # The structured prompt\n",
    "        documents=documents_delta,      # The input document\n",
    "        output_cls=RulesDocument        # The Pydantic schema for validation\n",
    "    )\n",
    "    print(\"Validated Structured Data:\")\n",
    "    print(json.dumps(response.model_dump(), indent=2))  # Pretty-print the output\n",
    "except ValidationError as e:\n",
    "    print(\"Validation Error:\", e)\n",
    "except Exception as e:\n",
    "    print(\"Error during structured prediction:\", e)\n"
   ]
  },
  {
   "cell_type": "code",
   "execution_count": null,
   "id": "b34a4252",
   "metadata": {},
   "outputs": [],
   "source": []
  }
 ],
 "metadata": {
  "kernelspec": {
   "display_name": "Python 3 (ipykernel)",
   "language": "python",
   "name": "python3"
  },
  "language_info": {
   "codemirror_mode": {
    "name": "ipython",
    "version": 3
   },
   "file_extension": ".py",
   "mimetype": "text/x-python",
   "name": "python",
   "nbconvert_exporter": "python",
   "pygments_lexer": "ipython3",
   "version": "3.11.4"
  }
 },
 "nbformat": 4,
 "nbformat_minor": 5
}
