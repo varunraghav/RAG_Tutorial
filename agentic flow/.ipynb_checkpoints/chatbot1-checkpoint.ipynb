{
 "cells": [
  {
   "cell_type": "markdown",
   "id": "34b56e0d",
   "metadata": {},
   "source": [
    "# Dataset - Uber SEC 10k filing\n",
    "\n",
    "\n",
    "A SEC 10-K filing is an annual report that summarizes a public company's financial performance and business activities. The U.S. Securities and Exchange Commission (SEC) requires all public companies to file a 10-K.\n",
    "\n",
    "In this program, we are downloading few SEC 10-K filings of Uber for the years from 2019 - 2022 and building a chatbot over them."
   ]
  },
  {
   "cell_type": "code",
   "execution_count": null,
   "id": "19ff67f7",
   "metadata": {},
   "outputs": [],
   "source": [
    "%pip install llama-index-readers-file\n",
    "%pip install llama-index-embeddings-openai\n",
    "%pip install llama-index-agent-openai\n",
    "%pip install llama-index-llms-openai"
   ]
  },
  {
   "cell_type": "code",
   "execution_count": 2,
   "id": "fe7d8056",
   "metadata": {},
   "outputs": [
    {
     "name": "stdout",
     "output_type": "stream",
     "text": [
      "Enter your Open API key: ········\n"
     ]
    }
   ],
   "source": [
    "import os\n",
    "import getpass\n",
    "\n",
    "os.environ['OPENAI_API_KEY'] = getpass.getpass(\"Enter your Open API key: \")"
   ]
  },
  {
   "cell_type": "code",
   "execution_count": 3,
   "id": "12393ba3",
   "metadata": {},
   "outputs": [],
   "source": [
    "import nest_asyncio\n",
    "\n",
    "nest_asyncio.apply()"
   ]
  },
  {
   "cell_type": "code",
   "execution_count": 4,
   "id": "b61b89da",
   "metadata": {},
   "outputs": [],
   "source": [
    "# set text wrapping\n",
    "from IPython.display import HTML, display\n",
    "\n",
    "\n",
    "def set_css():\n",
    "    display(\n",
    "        HTML(\n",
    "            \"\"\"\n",
    "  \n",
    "    pre {\n",
    "        white-space: pre-wrap;\n",
    "    }\n",
    "  \n",
    "  \"\"\"\n",
    "        )\n",
    "    )\n",
    "\n",
    "\n",
    "get_ipython().events.register(\"pre_run_cell\", set_css)"
   ]
  },
  {
   "cell_type": "markdown",
   "id": "2a99663a",
   "metadata": {},
   "source": [
    "# Ingest Data"
   ]
  },
  {
   "cell_type": "code",
   "execution_count": null,
   "id": "2c9eb828",
   "metadata": {},
   "outputs": [],
   "source": []
  }
 ],
 "metadata": {
  "kernelspec": {
   "display_name": "Python 3 (ipykernel)",
   "language": "python",
   "name": "python3"
  },
  "language_info": {
   "codemirror_mode": {
    "name": "ipython",
    "version": 3
   },
   "file_extension": ".py",
   "mimetype": "text/x-python",
   "name": "python",
   "nbconvert_exporter": "python",
   "pygments_lexer": "ipython3",
   "version": "3.11.4"
  }
 },
 "nbformat": 4,
 "nbformat_minor": 5
}
