{
 "cells": [
  {
   "cell_type": "markdown",
   "id": "7ce04078",
   "metadata": {},
   "source": [
    "# Dataset - Uber SEC 10k filing\n",
    "\n",
    "\n",
    "A SEC 10-K filing is an annual report that summarizes a public company's financial performance and business activities. The U.S. Securities and Exchange Commission (SEC) requires all public companies to file a 10-K.\n",
    "\n",
    "In this program, we are downloading few SEC 10-K filings of Uber for the years from 2019 - 2022 and building a chatbot over them."
   ]
  },
  {
   "cell_type": "code",
   "execution_count": 10,
   "id": "76c225b0",
   "metadata": {},
   "outputs": [
    {
     "data": {
      "text/html": [
       "\n",
       "  \n",
       "    pre {\n",
       "        white-space: pre-wrap;\n",
       "    }\n",
       "  \n",
       "  "
      ],
      "text/plain": [
       "<IPython.core.display.HTML object>"
      ]
     },
     "metadata": {},
     "output_type": "display_data"
    },
    {
     "name": "stdout",
     "output_type": "stream",
     "text": [
      "Requirement already satisfied: llama-index-readers-file in /Users/varunraghav/anaconda3/lib/python3.11/site-packages (0.4.1)\n",
      "Requirement already satisfied: beautifulsoup4<5.0.0,>=4.12.3 in /Users/varunraghav/anaconda3/lib/python3.11/site-packages (from llama-index-readers-file) (4.12.3)\n",
      "Requirement already satisfied: llama-index-core<0.13.0,>=0.12.0 in /Users/varunraghav/anaconda3/lib/python3.11/site-packages (from llama-index-readers-file) (0.12.9)\n",
      "Requirement already satisfied: pandas in /Users/varunraghav/anaconda3/lib/python3.11/site-packages (from llama-index-readers-file) (2.1.4)\n",
      "Requirement already satisfied: pypdf<6.0.0,>=5.1.0 in /Users/varunraghav/anaconda3/lib/python3.11/site-packages (from llama-index-readers-file) (5.1.0)\n",
      "Requirement already satisfied: striprtf<0.0.27,>=0.0.26 in /Users/varunraghav/anaconda3/lib/python3.11/site-packages (from llama-index-readers-file) (0.0.26)\n",
      "Requirement already satisfied: soupsieve>1.2 in /Users/varunraghav/anaconda3/lib/python3.11/site-packages (from beautifulsoup4<5.0.0,>=4.12.3->llama-index-readers-file) (2.4)\n",
      "Requirement already satisfied: PyYAML>=6.0.1 in /Users/varunraghav/anaconda3/lib/python3.11/site-packages (from llama-index-core<0.13.0,>=0.12.0->llama-index-readers-file) (6.0.2)\n",
      "Requirement already satisfied: SQLAlchemy[asyncio]>=1.4.49 in /Users/varunraghav/anaconda3/lib/python3.11/site-packages (from llama-index-core<0.13.0,>=0.12.0->llama-index-readers-file) (2.0.36)\n",
      "Requirement already satisfied: aiohttp<4.0.0,>=3.8.6 in /Users/varunraghav/anaconda3/lib/python3.11/site-packages (from llama-index-core<0.13.0,>=0.12.0->llama-index-readers-file) (3.11.10)\n",
      "Requirement already satisfied: dataclasses-json in /Users/varunraghav/anaconda3/lib/python3.11/site-packages (from llama-index-core<0.13.0,>=0.12.0->llama-index-readers-file) (0.6.7)\n",
      "Requirement already satisfied: deprecated>=1.2.9.3 in /Users/varunraghav/anaconda3/lib/python3.11/site-packages (from llama-index-core<0.13.0,>=0.12.0->llama-index-readers-file) (1.2.15)\n",
      "Requirement already satisfied: dirtyjson<2.0.0,>=1.0.8 in /Users/varunraghav/anaconda3/lib/python3.11/site-packages (from llama-index-core<0.13.0,>=0.12.0->llama-index-readers-file) (1.0.8)\n",
      "Requirement already satisfied: filetype<2.0.0,>=1.2.0 in /Users/varunraghav/anaconda3/lib/python3.11/site-packages (from llama-index-core<0.13.0,>=0.12.0->llama-index-readers-file) (1.2.0)\n",
      "Requirement already satisfied: fsspec>=2023.5.0 in /Users/varunraghav/anaconda3/lib/python3.11/site-packages (from llama-index-core<0.13.0,>=0.12.0->llama-index-readers-file) (2024.2.0)\n",
      "Requirement already satisfied: httpx in /Users/varunraghav/anaconda3/lib/python3.11/site-packages (from llama-index-core<0.13.0,>=0.12.0->llama-index-readers-file) (0.28.0)\n",
      "Requirement already satisfied: nest-asyncio<2.0.0,>=1.5.8 in /Users/varunraghav/anaconda3/lib/python3.11/site-packages (from llama-index-core<0.13.0,>=0.12.0->llama-index-readers-file) (1.6.0)\n",
      "Requirement already satisfied: networkx>=3.0 in /Users/varunraghav/anaconda3/lib/python3.11/site-packages (from llama-index-core<0.13.0,>=0.12.0->llama-index-readers-file) (3.1)\n",
      "Requirement already satisfied: nltk>3.8.1 in /Users/varunraghav/anaconda3/lib/python3.11/site-packages (from llama-index-core<0.13.0,>=0.12.0->llama-index-readers-file) (3.9.1)\n",
      "Requirement already satisfied: numpy in /Users/varunraghav/anaconda3/lib/python3.11/site-packages (from llama-index-core<0.13.0,>=0.12.0->llama-index-readers-file) (1.26.4)\n",
      "Requirement already satisfied: pillow>=9.0.0 in /Users/varunraghav/anaconda3/lib/python3.11/site-packages (from llama-index-core<0.13.0,>=0.12.0->llama-index-readers-file) (9.5.0)\n",
      "Requirement already satisfied: pydantic>=2.8.0 in /Users/varunraghav/anaconda3/lib/python3.11/site-packages (from llama-index-core<0.13.0,>=0.12.0->llama-index-readers-file) (2.10.5)\n",
      "Requirement already satisfied: requests>=2.31.0 in /Users/varunraghav/anaconda3/lib/python3.11/site-packages (from llama-index-core<0.13.0,>=0.12.0->llama-index-readers-file) (2.31.0)\n",
      "Requirement already satisfied: tenacity!=8.4.0,<10.0.0,>=8.2.0 in /Users/varunraghav/anaconda3/lib/python3.11/site-packages (from llama-index-core<0.13.0,>=0.12.0->llama-index-readers-file) (8.5.0)\n",
      "Requirement already satisfied: tiktoken>=0.3.3 in /Users/varunraghav/anaconda3/lib/python3.11/site-packages (from llama-index-core<0.13.0,>=0.12.0->llama-index-readers-file) (0.8.0)\n",
      "Requirement already satisfied: tqdm<5.0.0,>=4.66.1 in /Users/varunraghav/anaconda3/lib/python3.11/site-packages (from llama-index-core<0.13.0,>=0.12.0->llama-index-readers-file) (4.67.1)\n",
      "Requirement already satisfied: typing-extensions>=4.5.0 in /Users/varunraghav/anaconda3/lib/python3.11/site-packages (from llama-index-core<0.13.0,>=0.12.0->llama-index-readers-file) (4.12.2)\n",
      "Requirement already satisfied: typing-inspect>=0.8.0 in /Users/varunraghav/anaconda3/lib/python3.11/site-packages (from llama-index-core<0.13.0,>=0.12.0->llama-index-readers-file) (0.9.0)\n",
      "Requirement already satisfied: wrapt in /Users/varunraghav/anaconda3/lib/python3.11/site-packages (from llama-index-core<0.13.0,>=0.12.0->llama-index-readers-file) (1.14.1)\n",
      "Requirement already satisfied: python-dateutil>=2.8.2 in /Users/varunraghav/anaconda3/lib/python3.11/site-packages (from pandas->llama-index-readers-file) (2.8.2)\n",
      "Requirement already satisfied: pytz>=2020.1 in /Users/varunraghav/anaconda3/lib/python3.11/site-packages (from pandas->llama-index-readers-file) (2023.4)\n",
      "Requirement already satisfied: tzdata>=2022.1 in /Users/varunraghav/anaconda3/lib/python3.11/site-packages (from pandas->llama-index-readers-file) (2023.3)\n",
      "Requirement already satisfied: aiohappyeyeballs>=2.3.0 in /Users/varunraghav/anaconda3/lib/python3.11/site-packages (from aiohttp<4.0.0,>=3.8.6->llama-index-core<0.13.0,>=0.12.0->llama-index-readers-file) (2.4.4)\n",
      "Requirement already satisfied: aiosignal>=1.1.2 in /Users/varunraghav/anaconda3/lib/python3.11/site-packages (from aiohttp<4.0.0,>=3.8.6->llama-index-core<0.13.0,>=0.12.0->llama-index-readers-file) (1.2.0)\n",
      "Requirement already satisfied: attrs>=17.3.0 in /Users/varunraghav/anaconda3/lib/python3.11/site-packages (from aiohttp<4.0.0,>=3.8.6->llama-index-core<0.13.0,>=0.12.0->llama-index-readers-file) (24.2.0)\n",
      "Requirement already satisfied: frozenlist>=1.1.1 in /Users/varunraghav/anaconda3/lib/python3.11/site-packages (from aiohttp<4.0.0,>=3.8.6->llama-index-core<0.13.0,>=0.12.0->llama-index-readers-file) (1.3.3)\n",
      "Requirement already satisfied: multidict<7.0,>=4.5 in /Users/varunraghav/anaconda3/lib/python3.11/site-packages (from aiohttp<4.0.0,>=3.8.6->llama-index-core<0.13.0,>=0.12.0->llama-index-readers-file) (6.0.2)\n",
      "Requirement already satisfied: propcache>=0.2.0 in /Users/varunraghav/anaconda3/lib/python3.11/site-packages (from aiohttp<4.0.0,>=3.8.6->llama-index-core<0.13.0,>=0.12.0->llama-index-readers-file) (0.2.1)\n",
      "Requirement already satisfied: yarl<2.0,>=1.17.0 in /Users/varunraghav/anaconda3/lib/python3.11/site-packages (from aiohttp<4.0.0,>=3.8.6->llama-index-core<0.13.0,>=0.12.0->llama-index-readers-file) (1.18.3)\n",
      "Requirement already satisfied: click in /Users/varunraghav/anaconda3/lib/python3.11/site-packages (from nltk>3.8.1->llama-index-core<0.13.0,>=0.12.0->llama-index-readers-file) (8.1.7)\n",
      "Requirement already satisfied: joblib in /Users/varunraghav/anaconda3/lib/python3.11/site-packages (from nltk>3.8.1->llama-index-core<0.13.0,>=0.12.0->llama-index-readers-file) (1.2.0)\n",
      "Requirement already satisfied: regex>=2021.8.3 in /Users/varunraghav/anaconda3/lib/python3.11/site-packages (from nltk>3.8.1->llama-index-core<0.13.0,>=0.12.0->llama-index-readers-file) (2022.7.9)\n",
      "Requirement already satisfied: annotated-types>=0.6.0 in /Users/varunraghav/anaconda3/lib/python3.11/site-packages (from pydantic>=2.8.0->llama-index-core<0.13.0,>=0.12.0->llama-index-readers-file) (0.6.0)\n",
      "Requirement already satisfied: pydantic-core==2.27.2 in /Users/varunraghav/anaconda3/lib/python3.11/site-packages (from pydantic>=2.8.0->llama-index-core<0.13.0,>=0.12.0->llama-index-readers-file) (2.27.2)\n",
      "Requirement already satisfied: six>=1.5 in /Users/varunraghav/anaconda3/lib/python3.11/site-packages (from python-dateutil>=2.8.2->pandas->llama-index-readers-file) (1.16.0)\n",
      "Requirement already satisfied: charset-normalizer<4,>=2 in /Users/varunraghav/anaconda3/lib/python3.11/site-packages (from requests>=2.31.0->llama-index-core<0.13.0,>=0.12.0->llama-index-readers-file) (2.0.4)\n",
      "Requirement already satisfied: idna<4,>=2.5 in /Users/varunraghav/anaconda3/lib/python3.11/site-packages (from requests>=2.31.0->llama-index-core<0.13.0,>=0.12.0->llama-index-readers-file) (3.4)\n",
      "Requirement already satisfied: urllib3<3,>=1.21.1 in /Users/varunraghav/anaconda3/lib/python3.11/site-packages (from requests>=2.31.0->llama-index-core<0.13.0,>=0.12.0->llama-index-readers-file) (2.2.3)\n",
      "Requirement already satisfied: certifi>=2017.4.17 in /Users/varunraghav/anaconda3/lib/python3.11/site-packages (from requests>=2.31.0->llama-index-core<0.13.0,>=0.12.0->llama-index-readers-file) (2024.8.30)\n",
      "Requirement already satisfied: greenlet!=0.4.17 in /Users/varunraghav/anaconda3/lib/python3.11/site-packages (from SQLAlchemy[asyncio]>=1.4.49->llama-index-core<0.13.0,>=0.12.0->llama-index-readers-file) (3.1.1)\n"
     ]
    },
    {
     "name": "stdout",
     "output_type": "stream",
     "text": [
      "Requirement already satisfied: mypy-extensions>=0.3.0 in /Users/varunraghav/anaconda3/lib/python3.11/site-packages (from typing-inspect>=0.8.0->llama-index-core<0.13.0,>=0.12.0->llama-index-readers-file) (0.4.3)\n",
      "Requirement already satisfied: marshmallow<4.0.0,>=3.18.0 in /Users/varunraghav/anaconda3/lib/python3.11/site-packages (from dataclasses-json->llama-index-core<0.13.0,>=0.12.0->llama-index-readers-file) (3.23.1)\n",
      "Requirement already satisfied: anyio in /Users/varunraghav/anaconda3/lib/python3.11/site-packages (from httpx->llama-index-core<0.13.0,>=0.12.0->llama-index-readers-file) (3.5.0)\n",
      "Requirement already satisfied: httpcore==1.* in /Users/varunraghav/anaconda3/lib/python3.11/site-packages (from httpx->llama-index-core<0.13.0,>=0.12.0->llama-index-readers-file) (1.0.7)\n",
      "Requirement already satisfied: h11<0.15,>=0.13 in /Users/varunraghav/anaconda3/lib/python3.11/site-packages (from httpcore==1.*->httpx->llama-index-core<0.13.0,>=0.12.0->llama-index-readers-file) (0.14.0)\n",
      "Requirement already satisfied: packaging>=17.0 in /Users/varunraghav/anaconda3/lib/python3.11/site-packages (from marshmallow<4.0.0,>=3.18.0->dataclasses-json->llama-index-core<0.13.0,>=0.12.0->llama-index-readers-file) (24.2)\n",
      "Requirement already satisfied: sniffio>=1.1 in /Users/varunraghav/anaconda3/lib/python3.11/site-packages (from anyio->httpx->llama-index-core<0.13.0,>=0.12.0->llama-index-readers-file) (1.3.1)\n",
      "Note: you may need to restart the kernel to use updated packages.\n",
      "Requirement already satisfied: llama-index-embeddings-openai in /Users/varunraghav/anaconda3/lib/python3.11/site-packages (0.3.1)\n",
      "Requirement already satisfied: llama-index-core<0.13.0,>=0.12.0 in /Users/varunraghav/anaconda3/lib/python3.11/site-packages (from llama-index-embeddings-openai) (0.12.9)\n",
      "Requirement already satisfied: openai>=1.1.0 in /Users/varunraghav/anaconda3/lib/python3.11/site-packages (from llama-index-embeddings-openai) (1.57.1)\n",
      "Requirement already satisfied: PyYAML>=6.0.1 in /Users/varunraghav/anaconda3/lib/python3.11/site-packages (from llama-index-core<0.13.0,>=0.12.0->llama-index-embeddings-openai) (6.0.2)\n",
      "Requirement already satisfied: SQLAlchemy[asyncio]>=1.4.49 in /Users/varunraghav/anaconda3/lib/python3.11/site-packages (from llama-index-core<0.13.0,>=0.12.0->llama-index-embeddings-openai) (2.0.36)\n",
      "Requirement already satisfied: aiohttp<4.0.0,>=3.8.6 in /Users/varunraghav/anaconda3/lib/python3.11/site-packages (from llama-index-core<0.13.0,>=0.12.0->llama-index-embeddings-openai) (3.11.10)\n",
      "Requirement already satisfied: dataclasses-json in /Users/varunraghav/anaconda3/lib/python3.11/site-packages (from llama-index-core<0.13.0,>=0.12.0->llama-index-embeddings-openai) (0.6.7)\n",
      "Requirement already satisfied: deprecated>=1.2.9.3 in /Users/varunraghav/anaconda3/lib/python3.11/site-packages (from llama-index-core<0.13.0,>=0.12.0->llama-index-embeddings-openai) (1.2.15)\n",
      "Requirement already satisfied: dirtyjson<2.0.0,>=1.0.8 in /Users/varunraghav/anaconda3/lib/python3.11/site-packages (from llama-index-core<0.13.0,>=0.12.0->llama-index-embeddings-openai) (1.0.8)\n",
      "Requirement already satisfied: filetype<2.0.0,>=1.2.0 in /Users/varunraghav/anaconda3/lib/python3.11/site-packages (from llama-index-core<0.13.0,>=0.12.0->llama-index-embeddings-openai) (1.2.0)\n",
      "Requirement already satisfied: fsspec>=2023.5.0 in /Users/varunraghav/anaconda3/lib/python3.11/site-packages (from llama-index-core<0.13.0,>=0.12.0->llama-index-embeddings-openai) (2024.2.0)\n",
      "Requirement already satisfied: httpx in /Users/varunraghav/anaconda3/lib/python3.11/site-packages (from llama-index-core<0.13.0,>=0.12.0->llama-index-embeddings-openai) (0.28.0)\n",
      "Requirement already satisfied: nest-asyncio<2.0.0,>=1.5.8 in /Users/varunraghav/anaconda3/lib/python3.11/site-packages (from llama-index-core<0.13.0,>=0.12.0->llama-index-embeddings-openai) (1.6.0)\n",
      "Requirement already satisfied: networkx>=3.0 in /Users/varunraghav/anaconda3/lib/python3.11/site-packages (from llama-index-core<0.13.0,>=0.12.0->llama-index-embeddings-openai) (3.1)\n",
      "Requirement already satisfied: nltk>3.8.1 in /Users/varunraghav/anaconda3/lib/python3.11/site-packages (from llama-index-core<0.13.0,>=0.12.0->llama-index-embeddings-openai) (3.9.1)\n",
      "Requirement already satisfied: numpy in /Users/varunraghav/anaconda3/lib/python3.11/site-packages (from llama-index-core<0.13.0,>=0.12.0->llama-index-embeddings-openai) (1.26.4)\n",
      "Requirement already satisfied: pillow>=9.0.0 in /Users/varunraghav/anaconda3/lib/python3.11/site-packages (from llama-index-core<0.13.0,>=0.12.0->llama-index-embeddings-openai) (9.5.0)\n",
      "Requirement already satisfied: pydantic>=2.8.0 in /Users/varunraghav/anaconda3/lib/python3.11/site-packages (from llama-index-core<0.13.0,>=0.12.0->llama-index-embeddings-openai) (2.10.5)\n",
      "Requirement already satisfied: requests>=2.31.0 in /Users/varunraghav/anaconda3/lib/python3.11/site-packages (from llama-index-core<0.13.0,>=0.12.0->llama-index-embeddings-openai) (2.31.0)\n",
      "Requirement already satisfied: tenacity!=8.4.0,<10.0.0,>=8.2.0 in /Users/varunraghav/anaconda3/lib/python3.11/site-packages (from llama-index-core<0.13.0,>=0.12.0->llama-index-embeddings-openai) (8.5.0)\n",
      "Requirement already satisfied: tiktoken>=0.3.3 in /Users/varunraghav/anaconda3/lib/python3.11/site-packages (from llama-index-core<0.13.0,>=0.12.0->llama-index-embeddings-openai) (0.8.0)\n",
      "Requirement already satisfied: tqdm<5.0.0,>=4.66.1 in /Users/varunraghav/anaconda3/lib/python3.11/site-packages (from llama-index-core<0.13.0,>=0.12.0->llama-index-embeddings-openai) (4.67.1)\n",
      "Requirement already satisfied: typing-extensions>=4.5.0 in /Users/varunraghav/anaconda3/lib/python3.11/site-packages (from llama-index-core<0.13.0,>=0.12.0->llama-index-embeddings-openai) (4.12.2)\n",
      "Requirement already satisfied: typing-inspect>=0.8.0 in /Users/varunraghav/anaconda3/lib/python3.11/site-packages (from llama-index-core<0.13.0,>=0.12.0->llama-index-embeddings-openai) (0.9.0)\n",
      "Requirement already satisfied: wrapt in /Users/varunraghav/anaconda3/lib/python3.11/site-packages (from llama-index-core<0.13.0,>=0.12.0->llama-index-embeddings-openai) (1.14.1)\n",
      "Requirement already satisfied: anyio<5,>=3.5.0 in /Users/varunraghav/anaconda3/lib/python3.11/site-packages (from openai>=1.1.0->llama-index-embeddings-openai) (3.5.0)\n",
      "Requirement already satisfied: distro<2,>=1.7.0 in /Users/varunraghav/anaconda3/lib/python3.11/site-packages (from openai>=1.1.0->llama-index-embeddings-openai) (1.9.0)\n",
      "Requirement already satisfied: jiter<1,>=0.4.0 in /Users/varunraghav/anaconda3/lib/python3.11/site-packages (from openai>=1.1.0->llama-index-embeddings-openai) (0.8.0)\n",
      "Requirement already satisfied: sniffio in /Users/varunraghav/anaconda3/lib/python3.11/site-packages (from openai>=1.1.0->llama-index-embeddings-openai) (1.3.1)\n",
      "Requirement already satisfied: aiohappyeyeballs>=2.3.0 in /Users/varunraghav/anaconda3/lib/python3.11/site-packages (from aiohttp<4.0.0,>=3.8.6->llama-index-core<0.13.0,>=0.12.0->llama-index-embeddings-openai) (2.4.4)\n",
      "Requirement already satisfied: aiosignal>=1.1.2 in /Users/varunraghav/anaconda3/lib/python3.11/site-packages (from aiohttp<4.0.0,>=3.8.6->llama-index-core<0.13.0,>=0.12.0->llama-index-embeddings-openai) (1.2.0)\n",
      "Requirement already satisfied: attrs>=17.3.0 in /Users/varunraghav/anaconda3/lib/python3.11/site-packages (from aiohttp<4.0.0,>=3.8.6->llama-index-core<0.13.0,>=0.12.0->llama-index-embeddings-openai) (24.2.0)\n",
      "Requirement already satisfied: frozenlist>=1.1.1 in /Users/varunraghav/anaconda3/lib/python3.11/site-packages (from aiohttp<4.0.0,>=3.8.6->llama-index-core<0.13.0,>=0.12.0->llama-index-embeddings-openai) (1.3.3)\n",
      "Requirement already satisfied: multidict<7.0,>=4.5 in /Users/varunraghav/anaconda3/lib/python3.11/site-packages (from aiohttp<4.0.0,>=3.8.6->llama-index-core<0.13.0,>=0.12.0->llama-index-embeddings-openai) (6.0.2)\n",
      "Requirement already satisfied: propcache>=0.2.0 in /Users/varunraghav/anaconda3/lib/python3.11/site-packages (from aiohttp<4.0.0,>=3.8.6->llama-index-core<0.13.0,>=0.12.0->llama-index-embeddings-openai) (0.2.1)\n",
      "Requirement already satisfied: yarl<2.0,>=1.17.0 in /Users/varunraghav/anaconda3/lib/python3.11/site-packages (from aiohttp<4.0.0,>=3.8.6->llama-index-core<0.13.0,>=0.12.0->llama-index-embeddings-openai) (1.18.3)\n",
      "Requirement already satisfied: idna>=2.8 in /Users/varunraghav/anaconda3/lib/python3.11/site-packages (from anyio<5,>=3.5.0->openai>=1.1.0->llama-index-embeddings-openai) (3.4)\n"
     ]
    },
    {
     "name": "stdout",
     "output_type": "stream",
     "text": [
      "Requirement already satisfied: certifi in /Users/varunraghav/anaconda3/lib/python3.11/site-packages (from httpx->llama-index-core<0.13.0,>=0.12.0->llama-index-embeddings-openai) (2024.8.30)\n",
      "Requirement already satisfied: httpcore==1.* in /Users/varunraghav/anaconda3/lib/python3.11/site-packages (from httpx->llama-index-core<0.13.0,>=0.12.0->llama-index-embeddings-openai) (1.0.7)\n",
      "Requirement already satisfied: h11<0.15,>=0.13 in /Users/varunraghav/anaconda3/lib/python3.11/site-packages (from httpcore==1.*->httpx->llama-index-core<0.13.0,>=0.12.0->llama-index-embeddings-openai) (0.14.0)\n",
      "Requirement already satisfied: click in /Users/varunraghav/anaconda3/lib/python3.11/site-packages (from nltk>3.8.1->llama-index-core<0.13.0,>=0.12.0->llama-index-embeddings-openai) (8.1.7)\n",
      "Requirement already satisfied: joblib in /Users/varunraghav/anaconda3/lib/python3.11/site-packages (from nltk>3.8.1->llama-index-core<0.13.0,>=0.12.0->llama-index-embeddings-openai) (1.2.0)\n",
      "Requirement already satisfied: regex>=2021.8.3 in /Users/varunraghav/anaconda3/lib/python3.11/site-packages (from nltk>3.8.1->llama-index-core<0.13.0,>=0.12.0->llama-index-embeddings-openai) (2022.7.9)\n",
      "Requirement already satisfied: annotated-types>=0.6.0 in /Users/varunraghav/anaconda3/lib/python3.11/site-packages (from pydantic>=2.8.0->llama-index-core<0.13.0,>=0.12.0->llama-index-embeddings-openai) (0.6.0)\n",
      "Requirement already satisfied: pydantic-core==2.27.2 in /Users/varunraghav/anaconda3/lib/python3.11/site-packages (from pydantic>=2.8.0->llama-index-core<0.13.0,>=0.12.0->llama-index-embeddings-openai) (2.27.2)\n",
      "Requirement already satisfied: charset-normalizer<4,>=2 in /Users/varunraghav/anaconda3/lib/python3.11/site-packages (from requests>=2.31.0->llama-index-core<0.13.0,>=0.12.0->llama-index-embeddings-openai) (2.0.4)\n",
      "Requirement already satisfied: urllib3<3,>=1.21.1 in /Users/varunraghav/anaconda3/lib/python3.11/site-packages (from requests>=2.31.0->llama-index-core<0.13.0,>=0.12.0->llama-index-embeddings-openai) (2.2.3)\n",
      "Requirement already satisfied: greenlet!=0.4.17 in /Users/varunraghav/anaconda3/lib/python3.11/site-packages (from SQLAlchemy[asyncio]>=1.4.49->llama-index-core<0.13.0,>=0.12.0->llama-index-embeddings-openai) (3.1.1)\n",
      "Requirement already satisfied: mypy-extensions>=0.3.0 in /Users/varunraghav/anaconda3/lib/python3.11/site-packages (from typing-inspect>=0.8.0->llama-index-core<0.13.0,>=0.12.0->llama-index-embeddings-openai) (0.4.3)\n",
      "Requirement already satisfied: marshmallow<4.0.0,>=3.18.0 in /Users/varunraghav/anaconda3/lib/python3.11/site-packages (from dataclasses-json->llama-index-core<0.13.0,>=0.12.0->llama-index-embeddings-openai) (3.23.1)\n",
      "Requirement already satisfied: packaging>=17.0 in /Users/varunraghav/anaconda3/lib/python3.11/site-packages (from marshmallow<4.0.0,>=3.18.0->dataclasses-json->llama-index-core<0.13.0,>=0.12.0->llama-index-embeddings-openai) (24.2)\n",
      "Note: you may need to restart the kernel to use updated packages.\n",
      "Requirement already satisfied: llama-index-agent-openai in /Users/varunraghav/anaconda3/lib/python3.11/site-packages (0.4.0)\n",
      "Requirement already satisfied: llama-index-core<0.13.0,>=0.12.0 in /Users/varunraghav/anaconda3/lib/python3.11/site-packages (from llama-index-agent-openai) (0.12.9)\n",
      "Requirement already satisfied: llama-index-llms-openai<0.4.0,>=0.3.0 in /Users/varunraghav/anaconda3/lib/python3.11/site-packages (from llama-index-agent-openai) (0.3.10)\n",
      "Requirement already satisfied: openai>=1.14.0 in /Users/varunraghav/anaconda3/lib/python3.11/site-packages (from llama-index-agent-openai) (1.57.1)\n",
      "Requirement already satisfied: PyYAML>=6.0.1 in /Users/varunraghav/anaconda3/lib/python3.11/site-packages (from llama-index-core<0.13.0,>=0.12.0->llama-index-agent-openai) (6.0.2)\n",
      "Requirement already satisfied: SQLAlchemy[asyncio]>=1.4.49 in /Users/varunraghav/anaconda3/lib/python3.11/site-packages (from llama-index-core<0.13.0,>=0.12.0->llama-index-agent-openai) (2.0.36)\n",
      "Requirement already satisfied: aiohttp<4.0.0,>=3.8.6 in /Users/varunraghav/anaconda3/lib/python3.11/site-packages (from llama-index-core<0.13.0,>=0.12.0->llama-index-agent-openai) (3.11.10)\n",
      "Requirement already satisfied: dataclasses-json in /Users/varunraghav/anaconda3/lib/python3.11/site-packages (from llama-index-core<0.13.0,>=0.12.0->llama-index-agent-openai) (0.6.7)\n",
      "Requirement already satisfied: deprecated>=1.2.9.3 in /Users/varunraghav/anaconda3/lib/python3.11/site-packages (from llama-index-core<0.13.0,>=0.12.0->llama-index-agent-openai) (1.2.15)\n",
      "Requirement already satisfied: dirtyjson<2.0.0,>=1.0.8 in /Users/varunraghav/anaconda3/lib/python3.11/site-packages (from llama-index-core<0.13.0,>=0.12.0->llama-index-agent-openai) (1.0.8)\n",
      "Requirement already satisfied: filetype<2.0.0,>=1.2.0 in /Users/varunraghav/anaconda3/lib/python3.11/site-packages (from llama-index-core<0.13.0,>=0.12.0->llama-index-agent-openai) (1.2.0)\n",
      "Requirement already satisfied: fsspec>=2023.5.0 in /Users/varunraghav/anaconda3/lib/python3.11/site-packages (from llama-index-core<0.13.0,>=0.12.0->llama-index-agent-openai) (2024.2.0)\n",
      "Requirement already satisfied: httpx in /Users/varunraghav/anaconda3/lib/python3.11/site-packages (from llama-index-core<0.13.0,>=0.12.0->llama-index-agent-openai) (0.28.0)\n",
      "Requirement already satisfied: nest-asyncio<2.0.0,>=1.5.8 in /Users/varunraghav/anaconda3/lib/python3.11/site-packages (from llama-index-core<0.13.0,>=0.12.0->llama-index-agent-openai) (1.6.0)\n",
      "Requirement already satisfied: networkx>=3.0 in /Users/varunraghav/anaconda3/lib/python3.11/site-packages (from llama-index-core<0.13.0,>=0.12.0->llama-index-agent-openai) (3.1)\n",
      "Requirement already satisfied: nltk>3.8.1 in /Users/varunraghav/anaconda3/lib/python3.11/site-packages (from llama-index-core<0.13.0,>=0.12.0->llama-index-agent-openai) (3.9.1)\n",
      "Requirement already satisfied: numpy in /Users/varunraghav/anaconda3/lib/python3.11/site-packages (from llama-index-core<0.13.0,>=0.12.0->llama-index-agent-openai) (1.26.4)\n",
      "Requirement already satisfied: pillow>=9.0.0 in /Users/varunraghav/anaconda3/lib/python3.11/site-packages (from llama-index-core<0.13.0,>=0.12.0->llama-index-agent-openai) (9.5.0)\n",
      "Requirement already satisfied: pydantic>=2.8.0 in /Users/varunraghav/anaconda3/lib/python3.11/site-packages (from llama-index-core<0.13.0,>=0.12.0->llama-index-agent-openai) (2.10.5)\n",
      "Requirement already satisfied: requests>=2.31.0 in /Users/varunraghav/anaconda3/lib/python3.11/site-packages (from llama-index-core<0.13.0,>=0.12.0->llama-index-agent-openai) (2.31.0)\n",
      "Requirement already satisfied: tenacity!=8.4.0,<10.0.0,>=8.2.0 in /Users/varunraghav/anaconda3/lib/python3.11/site-packages (from llama-index-core<0.13.0,>=0.12.0->llama-index-agent-openai) (8.5.0)\n",
      "Requirement already satisfied: tiktoken>=0.3.3 in /Users/varunraghav/anaconda3/lib/python3.11/site-packages (from llama-index-core<0.13.0,>=0.12.0->llama-index-agent-openai) (0.8.0)\n",
      "Requirement already satisfied: tqdm<5.0.0,>=4.66.1 in /Users/varunraghav/anaconda3/lib/python3.11/site-packages (from llama-index-core<0.13.0,>=0.12.0->llama-index-agent-openai) (4.67.1)\n",
      "Requirement already satisfied: typing-extensions>=4.5.0 in /Users/varunraghav/anaconda3/lib/python3.11/site-packages (from llama-index-core<0.13.0,>=0.12.0->llama-index-agent-openai) (4.12.2)\n",
      "Requirement already satisfied: typing-inspect>=0.8.0 in /Users/varunraghav/anaconda3/lib/python3.11/site-packages (from llama-index-core<0.13.0,>=0.12.0->llama-index-agent-openai) (0.9.0)\n",
      "Requirement already satisfied: wrapt in /Users/varunraghav/anaconda3/lib/python3.11/site-packages (from llama-index-core<0.13.0,>=0.12.0->llama-index-agent-openai) (1.14.1)\n",
      "Requirement already satisfied: anyio<5,>=3.5.0 in /Users/varunraghav/anaconda3/lib/python3.11/site-packages (from openai>=1.14.0->llama-index-agent-openai) (3.5.0)\n",
      "Requirement already satisfied: distro<2,>=1.7.0 in /Users/varunraghav/anaconda3/lib/python3.11/site-packages (from openai>=1.14.0->llama-index-agent-openai) (1.9.0)\n",
      "Requirement already satisfied: jiter<1,>=0.4.0 in /Users/varunraghav/anaconda3/lib/python3.11/site-packages (from openai>=1.14.0->llama-index-agent-openai) (0.8.0)\n",
      "Requirement already satisfied: sniffio in /Users/varunraghav/anaconda3/lib/python3.11/site-packages (from openai>=1.14.0->llama-index-agent-openai) (1.3.1)\n",
      "Requirement already satisfied: aiohappyeyeballs>=2.3.0 in /Users/varunraghav/anaconda3/lib/python3.11/site-packages (from aiohttp<4.0.0,>=3.8.6->llama-index-core<0.13.0,>=0.12.0->llama-index-agent-openai) (2.4.4)\n",
      "Requirement already satisfied: aiosignal>=1.1.2 in /Users/varunraghav/anaconda3/lib/python3.11/site-packages (from aiohttp<4.0.0,>=3.8.6->llama-index-core<0.13.0,>=0.12.0->llama-index-agent-openai) (1.2.0)\n",
      "Requirement already satisfied: attrs>=17.3.0 in /Users/varunraghav/anaconda3/lib/python3.11/site-packages (from aiohttp<4.0.0,>=3.8.6->llama-index-core<0.13.0,>=0.12.0->llama-index-agent-openai) (24.2.0)\n",
      "Requirement already satisfied: frozenlist>=1.1.1 in /Users/varunraghav/anaconda3/lib/python3.11/site-packages (from aiohttp<4.0.0,>=3.8.6->llama-index-core<0.13.0,>=0.12.0->llama-index-agent-openai) (1.3.3)\n",
      "Requirement already satisfied: multidict<7.0,>=4.5 in /Users/varunraghav/anaconda3/lib/python3.11/site-packages (from aiohttp<4.0.0,>=3.8.6->llama-index-core<0.13.0,>=0.12.0->llama-index-agent-openai) (6.0.2)\n",
      "Requirement already satisfied: propcache>=0.2.0 in /Users/varunraghav/anaconda3/lib/python3.11/site-packages (from aiohttp<4.0.0,>=3.8.6->llama-index-core<0.13.0,>=0.12.0->llama-index-agent-openai) (0.2.1)\n",
      "Requirement already satisfied: yarl<2.0,>=1.17.0 in /Users/varunraghav/anaconda3/lib/python3.11/site-packages (from aiohttp<4.0.0,>=3.8.6->llama-index-core<0.13.0,>=0.12.0->llama-index-agent-openai) (1.18.3)\n",
      "Requirement already satisfied: idna>=2.8 in /Users/varunraghav/anaconda3/lib/python3.11/site-packages (from anyio<5,>=3.5.0->openai>=1.14.0->llama-index-agent-openai) (3.4)\n",
      "Requirement already satisfied: certifi in /Users/varunraghav/anaconda3/lib/python3.11/site-packages (from httpx->llama-index-core<0.13.0,>=0.12.0->llama-index-agent-openai) (2024.8.30)\n",
      "Requirement already satisfied: httpcore==1.* in /Users/varunraghav/anaconda3/lib/python3.11/site-packages (from httpx->llama-index-core<0.13.0,>=0.12.0->llama-index-agent-openai) (1.0.7)\n",
      "Requirement already satisfied: h11<0.15,>=0.13 in /Users/varunraghav/anaconda3/lib/python3.11/site-packages (from httpcore==1.*->httpx->llama-index-core<0.13.0,>=0.12.0->llama-index-agent-openai) (0.14.0)\n"
     ]
    },
    {
     "name": "stdout",
     "output_type": "stream",
     "text": [
      "Requirement already satisfied: click in /Users/varunraghav/anaconda3/lib/python3.11/site-packages (from nltk>3.8.1->llama-index-core<0.13.0,>=0.12.0->llama-index-agent-openai) (8.1.7)\n",
      "Requirement already satisfied: joblib in /Users/varunraghav/anaconda3/lib/python3.11/site-packages (from nltk>3.8.1->llama-index-core<0.13.0,>=0.12.0->llama-index-agent-openai) (1.2.0)\n",
      "Requirement already satisfied: regex>=2021.8.3 in /Users/varunraghav/anaconda3/lib/python3.11/site-packages (from nltk>3.8.1->llama-index-core<0.13.0,>=0.12.0->llama-index-agent-openai) (2022.7.9)\n",
      "Requirement already satisfied: annotated-types>=0.6.0 in /Users/varunraghav/anaconda3/lib/python3.11/site-packages (from pydantic>=2.8.0->llama-index-core<0.13.0,>=0.12.0->llama-index-agent-openai) (0.6.0)\n",
      "Requirement already satisfied: pydantic-core==2.27.2 in /Users/varunraghav/anaconda3/lib/python3.11/site-packages (from pydantic>=2.8.0->llama-index-core<0.13.0,>=0.12.0->llama-index-agent-openai) (2.27.2)\n",
      "Requirement already satisfied: charset-normalizer<4,>=2 in /Users/varunraghav/anaconda3/lib/python3.11/site-packages (from requests>=2.31.0->llama-index-core<0.13.0,>=0.12.0->llama-index-agent-openai) (2.0.4)\n",
      "Requirement already satisfied: urllib3<3,>=1.21.1 in /Users/varunraghav/anaconda3/lib/python3.11/site-packages (from requests>=2.31.0->llama-index-core<0.13.0,>=0.12.0->llama-index-agent-openai) (2.2.3)\n",
      "Requirement already satisfied: greenlet!=0.4.17 in /Users/varunraghav/anaconda3/lib/python3.11/site-packages (from SQLAlchemy[asyncio]>=1.4.49->llama-index-core<0.13.0,>=0.12.0->llama-index-agent-openai) (3.1.1)\n",
      "Requirement already satisfied: mypy-extensions>=0.3.0 in /Users/varunraghav/anaconda3/lib/python3.11/site-packages (from typing-inspect>=0.8.0->llama-index-core<0.13.0,>=0.12.0->llama-index-agent-openai) (0.4.3)\n",
      "Requirement already satisfied: marshmallow<4.0.0,>=3.18.0 in /Users/varunraghav/anaconda3/lib/python3.11/site-packages (from dataclasses-json->llama-index-core<0.13.0,>=0.12.0->llama-index-agent-openai) (3.23.1)\n",
      "Requirement already satisfied: packaging>=17.0 in /Users/varunraghav/anaconda3/lib/python3.11/site-packages (from marshmallow<4.0.0,>=3.18.0->dataclasses-json->llama-index-core<0.13.0,>=0.12.0->llama-index-agent-openai) (24.2)\n",
      "Note: you may need to restart the kernel to use updated packages.\n",
      "Requirement already satisfied: llama-index-llms-openai in /Users/varunraghav/anaconda3/lib/python3.11/site-packages (0.3.10)\n",
      "Requirement already satisfied: llama-index-core<0.13.0,>=0.12.4 in /Users/varunraghav/anaconda3/lib/python3.11/site-packages (from llama-index-llms-openai) (0.12.9)\n",
      "Requirement already satisfied: openai<2.0.0,>=1.57.1 in /Users/varunraghav/anaconda3/lib/python3.11/site-packages (from llama-index-llms-openai) (1.57.1)\n",
      "Requirement already satisfied: PyYAML>=6.0.1 in /Users/varunraghav/anaconda3/lib/python3.11/site-packages (from llama-index-core<0.13.0,>=0.12.4->llama-index-llms-openai) (6.0.2)\n",
      "Requirement already satisfied: SQLAlchemy[asyncio]>=1.4.49 in /Users/varunraghav/anaconda3/lib/python3.11/site-packages (from llama-index-core<0.13.0,>=0.12.4->llama-index-llms-openai) (2.0.36)\n",
      "Requirement already satisfied: aiohttp<4.0.0,>=3.8.6 in /Users/varunraghav/anaconda3/lib/python3.11/site-packages (from llama-index-core<0.13.0,>=0.12.4->llama-index-llms-openai) (3.11.10)\n",
      "Requirement already satisfied: dataclasses-json in /Users/varunraghav/anaconda3/lib/python3.11/site-packages (from llama-index-core<0.13.0,>=0.12.4->llama-index-llms-openai) (0.6.7)\n",
      "Requirement already satisfied: deprecated>=1.2.9.3 in /Users/varunraghav/anaconda3/lib/python3.11/site-packages (from llama-index-core<0.13.0,>=0.12.4->llama-index-llms-openai) (1.2.15)\n",
      "Requirement already satisfied: dirtyjson<2.0.0,>=1.0.8 in /Users/varunraghav/anaconda3/lib/python3.11/site-packages (from llama-index-core<0.13.0,>=0.12.4->llama-index-llms-openai) (1.0.8)\n",
      "Requirement already satisfied: filetype<2.0.0,>=1.2.0 in /Users/varunraghav/anaconda3/lib/python3.11/site-packages (from llama-index-core<0.13.0,>=0.12.4->llama-index-llms-openai) (1.2.0)\n",
      "Requirement already satisfied: fsspec>=2023.5.0 in /Users/varunraghav/anaconda3/lib/python3.11/site-packages (from llama-index-core<0.13.0,>=0.12.4->llama-index-llms-openai) (2024.2.0)\n",
      "Requirement already satisfied: httpx in /Users/varunraghav/anaconda3/lib/python3.11/site-packages (from llama-index-core<0.13.0,>=0.12.4->llama-index-llms-openai) (0.28.0)\n",
      "Requirement already satisfied: nest-asyncio<2.0.0,>=1.5.8 in /Users/varunraghav/anaconda3/lib/python3.11/site-packages (from llama-index-core<0.13.0,>=0.12.4->llama-index-llms-openai) (1.6.0)\n",
      "Requirement already satisfied: networkx>=3.0 in /Users/varunraghav/anaconda3/lib/python3.11/site-packages (from llama-index-core<0.13.0,>=0.12.4->llama-index-llms-openai) (3.1)\n",
      "Requirement already satisfied: nltk>3.8.1 in /Users/varunraghav/anaconda3/lib/python3.11/site-packages (from llama-index-core<0.13.0,>=0.12.4->llama-index-llms-openai) (3.9.1)\n",
      "Requirement already satisfied: numpy in /Users/varunraghav/anaconda3/lib/python3.11/site-packages (from llama-index-core<0.13.0,>=0.12.4->llama-index-llms-openai) (1.26.4)\n",
      "Requirement already satisfied: pillow>=9.0.0 in /Users/varunraghav/anaconda3/lib/python3.11/site-packages (from llama-index-core<0.13.0,>=0.12.4->llama-index-llms-openai) (9.5.0)\n",
      "Requirement already satisfied: pydantic>=2.8.0 in /Users/varunraghav/anaconda3/lib/python3.11/site-packages (from llama-index-core<0.13.0,>=0.12.4->llama-index-llms-openai) (2.10.5)\n",
      "Requirement already satisfied: requests>=2.31.0 in /Users/varunraghav/anaconda3/lib/python3.11/site-packages (from llama-index-core<0.13.0,>=0.12.4->llama-index-llms-openai) (2.31.0)\n",
      "Requirement already satisfied: tenacity!=8.4.0,<10.0.0,>=8.2.0 in /Users/varunraghav/anaconda3/lib/python3.11/site-packages (from llama-index-core<0.13.0,>=0.12.4->llama-index-llms-openai) (8.5.0)\n",
      "Requirement already satisfied: tiktoken>=0.3.3 in /Users/varunraghav/anaconda3/lib/python3.11/site-packages (from llama-index-core<0.13.0,>=0.12.4->llama-index-llms-openai) (0.8.0)\n",
      "Requirement already satisfied: tqdm<5.0.0,>=4.66.1 in /Users/varunraghav/anaconda3/lib/python3.11/site-packages (from llama-index-core<0.13.0,>=0.12.4->llama-index-llms-openai) (4.67.1)\n",
      "Requirement already satisfied: typing-extensions>=4.5.0 in /Users/varunraghav/anaconda3/lib/python3.11/site-packages (from llama-index-core<0.13.0,>=0.12.4->llama-index-llms-openai) (4.12.2)\n",
      "Requirement already satisfied: typing-inspect>=0.8.0 in /Users/varunraghav/anaconda3/lib/python3.11/site-packages (from llama-index-core<0.13.0,>=0.12.4->llama-index-llms-openai) (0.9.0)\n",
      "Requirement already satisfied: wrapt in /Users/varunraghav/anaconda3/lib/python3.11/site-packages (from llama-index-core<0.13.0,>=0.12.4->llama-index-llms-openai) (1.14.1)\n",
      "Requirement already satisfied: anyio<5,>=3.5.0 in /Users/varunraghav/anaconda3/lib/python3.11/site-packages (from openai<2.0.0,>=1.57.1->llama-index-llms-openai) (3.5.0)\n",
      "Requirement already satisfied: distro<2,>=1.7.0 in /Users/varunraghav/anaconda3/lib/python3.11/site-packages (from openai<2.0.0,>=1.57.1->llama-index-llms-openai) (1.9.0)\n",
      "Requirement already satisfied: jiter<1,>=0.4.0 in /Users/varunraghav/anaconda3/lib/python3.11/site-packages (from openai<2.0.0,>=1.57.1->llama-index-llms-openai) (0.8.0)\n",
      "Requirement already satisfied: sniffio in /Users/varunraghav/anaconda3/lib/python3.11/site-packages (from openai<2.0.0,>=1.57.1->llama-index-llms-openai) (1.3.1)\n",
      "Requirement already satisfied: aiohappyeyeballs>=2.3.0 in /Users/varunraghav/anaconda3/lib/python3.11/site-packages (from aiohttp<4.0.0,>=3.8.6->llama-index-core<0.13.0,>=0.12.4->llama-index-llms-openai) (2.4.4)\n",
      "Requirement already satisfied: aiosignal>=1.1.2 in /Users/varunraghav/anaconda3/lib/python3.11/site-packages (from aiohttp<4.0.0,>=3.8.6->llama-index-core<0.13.0,>=0.12.4->llama-index-llms-openai) (1.2.0)\n",
      "Requirement already satisfied: attrs>=17.3.0 in /Users/varunraghav/anaconda3/lib/python3.11/site-packages (from aiohttp<4.0.0,>=3.8.6->llama-index-core<0.13.0,>=0.12.4->llama-index-llms-openai) (24.2.0)\n",
      "Requirement already satisfied: frozenlist>=1.1.1 in /Users/varunraghav/anaconda3/lib/python3.11/site-packages (from aiohttp<4.0.0,>=3.8.6->llama-index-core<0.13.0,>=0.12.4->llama-index-llms-openai) (1.3.3)\n",
      "Requirement already satisfied: multidict<7.0,>=4.5 in /Users/varunraghav/anaconda3/lib/python3.11/site-packages (from aiohttp<4.0.0,>=3.8.6->llama-index-core<0.13.0,>=0.12.4->llama-index-llms-openai) (6.0.2)\n",
      "Requirement already satisfied: propcache>=0.2.0 in /Users/varunraghav/anaconda3/lib/python3.11/site-packages (from aiohttp<4.0.0,>=3.8.6->llama-index-core<0.13.0,>=0.12.4->llama-index-llms-openai) (0.2.1)\n",
      "Requirement already satisfied: yarl<2.0,>=1.17.0 in /Users/varunraghav/anaconda3/lib/python3.11/site-packages (from aiohttp<4.0.0,>=3.8.6->llama-index-core<0.13.0,>=0.12.4->llama-index-llms-openai) (1.18.3)\n",
      "Requirement already satisfied: idna>=2.8 in /Users/varunraghav/anaconda3/lib/python3.11/site-packages (from anyio<5,>=3.5.0->openai<2.0.0,>=1.57.1->llama-index-llms-openai) (3.4)\n"
     ]
    },
    {
     "name": "stdout",
     "output_type": "stream",
     "text": [
      "Requirement already satisfied: certifi in /Users/varunraghav/anaconda3/lib/python3.11/site-packages (from httpx->llama-index-core<0.13.0,>=0.12.4->llama-index-llms-openai) (2024.8.30)\n",
      "Requirement already satisfied: httpcore==1.* in /Users/varunraghav/anaconda3/lib/python3.11/site-packages (from httpx->llama-index-core<0.13.0,>=0.12.4->llama-index-llms-openai) (1.0.7)\n",
      "Requirement already satisfied: h11<0.15,>=0.13 in /Users/varunraghav/anaconda3/lib/python3.11/site-packages (from httpcore==1.*->httpx->llama-index-core<0.13.0,>=0.12.4->llama-index-llms-openai) (0.14.0)\n",
      "Requirement already satisfied: click in /Users/varunraghav/anaconda3/lib/python3.11/site-packages (from nltk>3.8.1->llama-index-core<0.13.0,>=0.12.4->llama-index-llms-openai) (8.1.7)\n",
      "Requirement already satisfied: joblib in /Users/varunraghav/anaconda3/lib/python3.11/site-packages (from nltk>3.8.1->llama-index-core<0.13.0,>=0.12.4->llama-index-llms-openai) (1.2.0)\n",
      "Requirement already satisfied: regex>=2021.8.3 in /Users/varunraghav/anaconda3/lib/python3.11/site-packages (from nltk>3.8.1->llama-index-core<0.13.0,>=0.12.4->llama-index-llms-openai) (2022.7.9)\n",
      "Requirement already satisfied: annotated-types>=0.6.0 in /Users/varunraghav/anaconda3/lib/python3.11/site-packages (from pydantic>=2.8.0->llama-index-core<0.13.0,>=0.12.4->llama-index-llms-openai) (0.6.0)\n",
      "Requirement already satisfied: pydantic-core==2.27.2 in /Users/varunraghav/anaconda3/lib/python3.11/site-packages (from pydantic>=2.8.0->llama-index-core<0.13.0,>=0.12.4->llama-index-llms-openai) (2.27.2)\n",
      "Requirement already satisfied: charset-normalizer<4,>=2 in /Users/varunraghav/anaconda3/lib/python3.11/site-packages (from requests>=2.31.0->llama-index-core<0.13.0,>=0.12.4->llama-index-llms-openai) (2.0.4)\n",
      "Requirement already satisfied: urllib3<3,>=1.21.1 in /Users/varunraghav/anaconda3/lib/python3.11/site-packages (from requests>=2.31.0->llama-index-core<0.13.0,>=0.12.4->llama-index-llms-openai) (2.2.3)\n",
      "Requirement already satisfied: greenlet!=0.4.17 in /Users/varunraghav/anaconda3/lib/python3.11/site-packages (from SQLAlchemy[asyncio]>=1.4.49->llama-index-core<0.13.0,>=0.12.4->llama-index-llms-openai) (3.1.1)\n",
      "Requirement already satisfied: mypy-extensions>=0.3.0 in /Users/varunraghav/anaconda3/lib/python3.11/site-packages (from typing-inspect>=0.8.0->llama-index-core<0.13.0,>=0.12.4->llama-index-llms-openai) (0.4.3)\n",
      "Requirement already satisfied: marshmallow<4.0.0,>=3.18.0 in /Users/varunraghav/anaconda3/lib/python3.11/site-packages (from dataclasses-json->llama-index-core<0.13.0,>=0.12.4->llama-index-llms-openai) (3.23.1)\n",
      "Requirement already satisfied: packaging>=17.0 in /Users/varunraghav/anaconda3/lib/python3.11/site-packages (from marshmallow<4.0.0,>=3.18.0->dataclasses-json->llama-index-core<0.13.0,>=0.12.4->llama-index-llms-openai) (24.2)\n",
      "Note: you may need to restart the kernel to use updated packages.\n"
     ]
    }
   ],
   "source": [
    "%pip install llama-index-readers-file\n",
    "%pip install llama-index-embeddings-openai\n",
    "%pip install llama-index-agent-openai\n",
    "%pip install llama-index-llms-openai"
   ]
  },
  {
   "cell_type": "code",
   "execution_count": 8,
   "id": "83656191",
   "metadata": {},
   "outputs": [
    {
     "data": {
      "text/html": [
       "\n",
       "  \n",
       "    pre {\n",
       "        white-space: pre-wrap;\n",
       "    }\n",
       "  \n",
       "  "
      ],
      "text/plain": [
       "<IPython.core.display.HTML object>"
      ]
     },
     "metadata": {},
     "output_type": "display_data"
    },
    {
     "name": "stdout",
     "output_type": "stream",
     "text": [
      "Collecting unstructured\n",
      "  Obtaining dependency information for unstructured from https://files.pythonhosted.org/packages/99/ac/11d163876f43c7b3d6886353d03491b59fe2fb9ddb263b63c58e94f3f8a2/unstructured-0.16.13-py3-none-any.whl.metadata\n",
      "  Downloading unstructured-0.16.13-py3-none-any.whl.metadata (24 kB)\n",
      "Requirement already satisfied: chardet in /Users/varunraghav/anaconda3/lib/python3.11/site-packages (from unstructured) (4.0.0)\n",
      "Requirement already satisfied: filetype in /Users/varunraghav/anaconda3/lib/python3.11/site-packages (from unstructured) (1.2.0)\n",
      "Collecting python-magic (from unstructured)\n",
      "  Obtaining dependency information for python-magic from https://files.pythonhosted.org/packages/6c/73/9f872cb81fc5c3bb48f7227872c28975f998f3e7c2b1c16e95e6432bbb90/python_magic-0.4.27-py2.py3-none-any.whl.metadata\n",
      "  Downloading python_magic-0.4.27-py2.py3-none-any.whl.metadata (5.8 kB)\n",
      "Requirement already satisfied: lxml in /Users/varunraghav/anaconda3/lib/python3.11/site-packages (from unstructured) (4.9.2)\n",
      "Requirement already satisfied: nltk in /Users/varunraghav/anaconda3/lib/python3.11/site-packages (from unstructured) (3.9.1)\n",
      "Requirement already satisfied: requests in /Users/varunraghav/anaconda3/lib/python3.11/site-packages (from unstructured) (2.31.0)\n",
      "Requirement already satisfied: beautifulsoup4 in /Users/varunraghav/anaconda3/lib/python3.11/site-packages (from unstructured) (4.12.3)\n",
      "Collecting emoji (from unstructured)\n",
      "  Obtaining dependency information for emoji from https://files.pythonhosted.org/packages/91/db/a0335710caaa6d0aebdaa65ad4df789c15d89b7babd9a30277838a7d9aac/emoji-2.14.1-py3-none-any.whl.metadata\n",
      "  Downloading emoji-2.14.1-py3-none-any.whl.metadata (5.7 kB)\n",
      "Requirement already satisfied: dataclasses-json in /Users/varunraghav/anaconda3/lib/python3.11/site-packages (from unstructured) (0.6.7)\n",
      "Collecting python-iso639 (from unstructured)\n",
      "  Obtaining dependency information for python-iso639 from https://files.pythonhosted.org/packages/31/62/aa1cc476c53f58a18860e98ed031468f42446b6bed7568e47058f659291e/python_iso639-2024.10.22-py3-none-any.whl.metadata\n",
      "  Downloading python_iso639-2024.10.22-py3-none-any.whl.metadata (13 kB)\n",
      "Collecting langdetect (from unstructured)\n",
      "  Using cached langdetect-1.0.9-py3-none-any.whl\n",
      "Requirement already satisfied: numpy<2 in /Users/varunraghav/anaconda3/lib/python3.11/site-packages (from unstructured) (1.26.4)\n",
      "Collecting rapidfuzz (from unstructured)\n",
      "  Obtaining dependency information for rapidfuzz from https://files.pythonhosted.org/packages/4c/55/d026c01c9312c9c2a413679052a9bb884743fc5655e59339116d83a2125b/rapidfuzz-3.11.0-cp311-cp311-macosx_11_0_arm64.whl.metadata\n",
      "  Downloading rapidfuzz-3.11.0-cp311-cp311-macosx_11_0_arm64.whl.metadata (11 kB)\n",
      "Requirement already satisfied: backoff in /Users/varunraghav/anaconda3/lib/python3.11/site-packages (from unstructured) (2.2.1)\n",
      "Requirement already satisfied: typing-extensions in /Users/varunraghav/anaconda3/lib/python3.11/site-packages (from unstructured) (4.12.2)\n",
      "Collecting unstructured-client (from unstructured)\n",
      "  Obtaining dependency information for unstructured-client from https://files.pythonhosted.org/packages/13/cc/ca637104090734d367d20c286f4e259c6940d9a81bb639d71f08a873872c/unstructured_client-0.29.0-py3-none-any.whl.metadata\n",
      "  Downloading unstructured_client-0.29.0-py3-none-any.whl.metadata (20 kB)\n",
      "Requirement already satisfied: wrapt in /Users/varunraghav/anaconda3/lib/python3.11/site-packages (from unstructured) (1.14.1)\n",
      "Requirement already satisfied: tqdm in /Users/varunraghav/anaconda3/lib/python3.11/site-packages (from unstructured) (4.67.1)\n",
      "Requirement already satisfied: psutil in /Users/varunraghav/anaconda3/lib/python3.11/site-packages (from unstructured) (5.9.0)\n",
      "Collecting python-oxmsg (from unstructured)\n",
      "  Obtaining dependency information for python-oxmsg from https://files.pythonhosted.org/packages/d4/c8/fb23e1e7723ba9200b75bc121f22f67498ae098a202f1646acc4f6a54f5c/python_oxmsg-0.0.1-py3-none-any.whl.metadata\n",
      "  Downloading python_oxmsg-0.0.1-py3-none-any.whl.metadata (5.0 kB)\n",
      "Requirement already satisfied: html5lib in /Users/varunraghav/anaconda3/lib/python3.11/site-packages (from unstructured) (1.1)\n",
      "Collecting ndjson (from unstructured)\n",
      "  Obtaining dependency information for ndjson from https://files.pythonhosted.org/packages/70/c9/04ba0056011ba96a58163ebfd666d8385300bd12da1afe661a5a147758d7/ndjson-0.3.1-py2.py3-none-any.whl.metadata\n",
      "  Downloading ndjson-0.3.1-py2.py3-none-any.whl.metadata (3.2 kB)\n",
      "Requirement already satisfied: soupsieve>1.2 in /Users/varunraghav/anaconda3/lib/python3.11/site-packages (from beautifulsoup4->unstructured) (2.4)\n",
      "Requirement already satisfied: marshmallow<4.0.0,>=3.18.0 in /Users/varunraghav/anaconda3/lib/python3.11/site-packages (from dataclasses-json->unstructured) (3.23.1)\n",
      "Requirement already satisfied: typing-inspect<1,>=0.4.0 in /Users/varunraghav/anaconda3/lib/python3.11/site-packages (from dataclasses-json->unstructured) (0.9.0)\n",
      "Requirement already satisfied: six>=1.9 in /Users/varunraghav/anaconda3/lib/python3.11/site-packages (from html5lib->unstructured) (1.16.0)\n",
      "Requirement already satisfied: webencodings in /Users/varunraghav/anaconda3/lib/python3.11/site-packages (from html5lib->unstructured) (0.5.1)\n",
      "Requirement already satisfied: click in /Users/varunraghav/anaconda3/lib/python3.11/site-packages (from nltk->unstructured) (8.1.7)\n",
      "Requirement already satisfied: joblib in /Users/varunraghav/anaconda3/lib/python3.11/site-packages (from nltk->unstructured) (1.2.0)\n",
      "Requirement already satisfied: regex>=2021.8.3 in /Users/varunraghav/anaconda3/lib/python3.11/site-packages (from nltk->unstructured) (2022.7.9)\n",
      "Collecting olefile (from python-oxmsg->unstructured)\n",
      "  Obtaining dependency information for olefile from https://files.pythonhosted.org/packages/17/d3/b64c356a907242d719fc668b71befd73324e47ab46c8ebbbede252c154b2/olefile-0.47-py2.py3-none-any.whl.metadata\n",
      "  Downloading olefile-0.47-py2.py3-none-any.whl.metadata (9.7 kB)\n",
      "Requirement already satisfied: charset-normalizer<4,>=2 in /Users/varunraghav/anaconda3/lib/python3.11/site-packages (from requests->unstructured) (2.0.4)\n",
      "Requirement already satisfied: idna<4,>=2.5 in /Users/varunraghav/anaconda3/lib/python3.11/site-packages (from requests->unstructured) (3.4)\n",
      "Requirement already satisfied: urllib3<3,>=1.21.1 in /Users/varunraghav/anaconda3/lib/python3.11/site-packages (from requests->unstructured) (2.2.3)\n",
      "Requirement already satisfied: certifi>=2017.4.17 in /Users/varunraghav/anaconda3/lib/python3.11/site-packages (from requests->unstructured) (2024.8.30)\n",
      "Collecting aiofiles>=24.1.0 (from unstructured-client->unstructured)\n",
      "  Obtaining dependency information for aiofiles>=24.1.0 from https://files.pythonhosted.org/packages/a5/45/30bb92d442636f570cb5651bc661f52b610e2eec3f891a5dc3a4c3667db0/aiofiles-24.1.0-py3-none-any.whl.metadata\n",
      "  Downloading aiofiles-24.1.0-py3-none-any.whl.metadata (10 kB)\n",
      "Requirement already satisfied: cryptography>=3.1 in /Users/varunraghav/anaconda3/lib/python3.11/site-packages (from unstructured-client->unstructured) (39.0.1)\n",
      "Collecting eval-type-backport<0.3.0,>=0.2.0 (from unstructured-client->unstructured)\n",
      "  Obtaining dependency information for eval-type-backport<0.3.0,>=0.2.0 from https://files.pythonhosted.org/packages/ce/31/55cd413eaccd39125368be33c46de24a1f639f2e12349b0361b4678f3915/eval_type_backport-0.2.2-py3-none-any.whl.metadata\n",
      "  Downloading eval_type_backport-0.2.2-py3-none-any.whl.metadata (2.2 kB)\n",
      "Requirement already satisfied: httpx>=0.27.0 in /Users/varunraghav/anaconda3/lib/python3.11/site-packages (from unstructured-client->unstructured) (0.28.0)\n",
      "Collecting jsonpath-python<2.0.0,>=1.0.6 (from unstructured-client->unstructured)\n",
      "  Obtaining dependency information for jsonpath-python<2.0.0,>=1.0.6 from https://files.pythonhosted.org/packages/16/8a/d63959f4eff03893a00e6e63592e3a9f15b9266ed8e0275ab77f8c7dbc94/jsonpath_python-1.0.6-py3-none-any.whl.metadata\n",
      "  Downloading jsonpath_python-1.0.6-py3-none-any.whl.metadata (12 kB)\n",
      "Requirement already satisfied: nest-asyncio>=1.6.0 in /Users/varunraghav/anaconda3/lib/python3.11/site-packages (from unstructured-client->unstructured) (1.6.0)\n",
      "Collecting pydantic<2.11.0,>=2.10.3 (from unstructured-client->unstructured)\n",
      "  Obtaining dependency information for pydantic<2.11.0,>=2.10.3 from https://files.pythonhosted.org/packages/58/26/82663c79010b28eddf29dcdd0ea723439535fa917fce5905885c0e9ba562/pydantic-2.10.5-py3-none-any.whl.metadata\n",
      "  Downloading pydantic-2.10.5-py3-none-any.whl.metadata (30 kB)\n",
      "Requirement already satisfied: pypdf>=4.0 in /Users/varunraghav/anaconda3/lib/python3.11/site-packages (from unstructured-client->unstructured) (5.1.0)\n"
     ]
    },
    {
     "name": "stdout",
     "output_type": "stream",
     "text": [
      "Requirement already satisfied: python-dateutil<3.0.0,>=2.8.2 in /Users/varunraghav/anaconda3/lib/python3.11/site-packages (from unstructured-client->unstructured) (2.8.2)\n",
      "Requirement already satisfied: requests-toolbelt>=1.0.0 in /Users/varunraghav/anaconda3/lib/python3.11/site-packages (from unstructured-client->unstructured) (1.0.0)\n",
      "Requirement already satisfied: cffi>=1.12 in /Users/varunraghav/anaconda3/lib/python3.11/site-packages (from cryptography>=3.1->unstructured-client->unstructured) (1.15.1)\n",
      "Requirement already satisfied: anyio in /Users/varunraghav/anaconda3/lib/python3.11/site-packages (from httpx>=0.27.0->unstructured-client->unstructured) (3.5.0)\n",
      "Requirement already satisfied: httpcore==1.* in /Users/varunraghav/anaconda3/lib/python3.11/site-packages (from httpx>=0.27.0->unstructured-client->unstructured) (1.0.7)\n",
      "Requirement already satisfied: h11<0.15,>=0.13 in /Users/varunraghav/anaconda3/lib/python3.11/site-packages (from httpcore==1.*->httpx>=0.27.0->unstructured-client->unstructured) (0.14.0)\n",
      "Requirement already satisfied: packaging>=17.0 in /Users/varunraghav/anaconda3/lib/python3.11/site-packages (from marshmallow<4.0.0,>=3.18.0->dataclasses-json->unstructured) (24.2)\n",
      "Requirement already satisfied: annotated-types>=0.6.0 in /Users/varunraghav/anaconda3/lib/python3.11/site-packages (from pydantic<2.11.0,>=2.10.3->unstructured-client->unstructured) (0.6.0)\n",
      "Collecting pydantic-core==2.27.2 (from pydantic<2.11.0,>=2.10.3->unstructured-client->unstructured)\n",
      "  Obtaining dependency information for pydantic-core==2.27.2 from https://files.pythonhosted.org/packages/9e/e3/71fe85af2021f3f386da42d291412e5baf6ce7716bd7101ea49c810eda90/pydantic_core-2.27.2-cp311-cp311-macosx_11_0_arm64.whl.metadata\n",
      "  Downloading pydantic_core-2.27.2-cp311-cp311-macosx_11_0_arm64.whl.metadata (6.6 kB)\n",
      "Requirement already satisfied: mypy-extensions>=0.3.0 in /Users/varunraghav/anaconda3/lib/python3.11/site-packages (from typing-inspect<1,>=0.4.0->dataclasses-json->unstructured) (0.4.3)\n",
      "Requirement already satisfied: pycparser in /Users/varunraghav/anaconda3/lib/python3.11/site-packages (from cffi>=1.12->cryptography>=3.1->unstructured-client->unstructured) (2.21)\n",
      "Requirement already satisfied: sniffio>=1.1 in /Users/varunraghav/anaconda3/lib/python3.11/site-packages (from anyio->httpx>=0.27.0->unstructured-client->unstructured) (1.3.1)\n",
      "Downloading unstructured-0.16.13-py3-none-any.whl (1.8 MB)\n",
      "\u001b[2K   \u001b[90m━━━━━━━━━━━━━━━━━━━━━━━━━━━━━━━━━━━━━━━━\u001b[0m \u001b[32m1.8/1.8 MB\u001b[0m \u001b[31m17.4 MB/s\u001b[0m eta \u001b[36m0:00:00\u001b[0ma \u001b[36m0:00:01\u001b[0m\n",
      "\u001b[?25hDownloading emoji-2.14.1-py3-none-any.whl (590 kB)\n",
      "\u001b[2K   \u001b[90m━━━━━━━━━━━━━━━━━━━━━━━━━━━━━━━━━━━━━━━━\u001b[0m \u001b[32m590.6/590.6 kB\u001b[0m \u001b[31m20.0 MB/s\u001b[0m eta \u001b[36m0:00:00\u001b[0m\n",
      "\u001b[?25hDownloading ndjson-0.3.1-py2.py3-none-any.whl (5.3 kB)\n",
      "Downloading python_iso639-2024.10.22-py3-none-any.whl (274 kB)\n",
      "\u001b[2K   \u001b[90m━━━━━━━━━━━━━━━━━━━━━━━━━━━━━━━━━━━━━━━━\u001b[0m \u001b[32m274.9/274.9 kB\u001b[0m \u001b[31m31.4 MB/s\u001b[0m eta \u001b[36m0:00:00\u001b[0m\n",
      "\u001b[?25hDownloading python_magic-0.4.27-py2.py3-none-any.whl (13 kB)\n",
      "Downloading python_oxmsg-0.0.1-py3-none-any.whl (31 kB)\n",
      "Downloading rapidfuzz-3.11.0-cp311-cp311-macosx_11_0_arm64.whl (1.4 MB)\n",
      "\u001b[2K   \u001b[90m━━━━━━━━━━━━━━━━━━━━━━━━━━━━━━━━━━━━━━━━\u001b[0m \u001b[32m1.4/1.4 MB\u001b[0m \u001b[31m29.7 MB/s\u001b[0m eta \u001b[36m0:00:00\u001b[0ma \u001b[36m0:00:01\u001b[0m\n",
      "\u001b[?25hDownloading unstructured_client-0.29.0-py3-none-any.whl (63 kB)\n",
      "\u001b[2K   \u001b[90m━━━━━━━━━━━━━━━━━━━━━━━━━━━━━━━━━━━━━━━━\u001b[0m \u001b[32m63.6/63.6 kB\u001b[0m \u001b[31m5.5 MB/s\u001b[0m eta \u001b[36m0:00:00\u001b[0m\n",
      "\u001b[?25hDownloading aiofiles-24.1.0-py3-none-any.whl (15 kB)\n",
      "Downloading eval_type_backport-0.2.2-py3-none-any.whl (5.8 kB)\n",
      "Downloading jsonpath_python-1.0.6-py3-none-any.whl (7.6 kB)\n",
      "Using cached pydantic-2.10.5-py3-none-any.whl (431 kB)\n",
      "Using cached pydantic_core-2.27.2-cp311-cp311-macosx_11_0_arm64.whl (1.8 MB)\n",
      "Downloading olefile-0.47-py2.py3-none-any.whl (114 kB)\n",
      "\u001b[2K   \u001b[90m━━━━━━━━━━━━━━━━━━━━━━━━━━━━━━━━━━━━━━━━\u001b[0m \u001b[32m114.6/114.6 kB\u001b[0m \u001b[31m9.0 MB/s\u001b[0m eta \u001b[36m0:00:00\u001b[0m\n",
      "\u001b[?25hInstalling collected packages: ndjson, rapidfuzz, python-magic, python-iso639, pydantic-core, olefile, langdetect, jsonpath-python, eval-type-backport, emoji, aiofiles, python-oxmsg, pydantic, unstructured-client, unstructured\n",
      "  Attempting uninstall: pydantic-core\n",
      "    Found existing installation: pydantic_core 2.23.4\n",
      "    Uninstalling pydantic_core-2.23.4:\n",
      "      Successfully uninstalled pydantic_core-2.23.4\n",
      "  Attempting uninstall: aiofiles\n",
      "    Found existing installation: aiofiles 22.1.0\n",
      "    Uninstalling aiofiles-22.1.0:\n",
      "      Successfully uninstalled aiofiles-22.1.0\n",
      "  Attempting uninstall: pydantic\n",
      "    Found existing installation: pydantic 2.9.2\n",
      "    Uninstalling pydantic-2.9.2:\n",
      "      Successfully uninstalled pydantic-2.9.2\n",
      "\u001b[31mERROR: pip's dependency resolver does not currently take into account all the packages that are installed. This behaviour is the source of the following dependency conflicts.\n",
      "composio-core 0.5.51 requires pydantic<2.10,>=2.6.4, but you have pydantic 2.10.5 which is incompatible.\n",
      "spacy 3.7.2 requires typer<0.10.0,>=0.3.0, but you have typer 0.15.1 which is incompatible.\n",
      "weasel 0.3.4 requires typer<0.10.0,>=0.3.0, but you have typer 0.15.1 which is incompatible.\n",
      "letta 0.6.3 requires html2text<2021.0.0,>=2020.1.16, but you have html2text 2024.2.26 which is incompatible.\n",
      "letta 0.6.3 requires pydantic<2.10.0,>=2.7.4, but you have pydantic 2.10.5 which is incompatible.\n",
      "letta 0.6.3 requires python-multipart<0.0.10,>=0.0.9, but you have python-multipart 0.0.20 which is incompatible.\n",
      "letta 0.6.3 requires typer[all]<0.10.0,>=0.9.0, but you have typer 0.15.1 which is incompatible.\n",
      "ypy-websocket 0.8.2 requires aiofiles<23,>=22.1.0, but you have aiofiles 24.1.0 which is incompatible.\n",
      "gradio 5.9.1 requires aiofiles<24.0,>=22.0, but you have aiofiles 24.1.0 which is incompatible.\n",
      "gradio 5.9.1 requires huggingface-hub>=0.25.1, but you have huggingface-hub 0.17.3 which is incompatible.\u001b[0m\u001b[31m\n",
      "\u001b[0mSuccessfully installed aiofiles-24.1.0 emoji-2.14.1 eval-type-backport-0.2.2 jsonpath-python-1.0.6 langdetect-1.0.9 ndjson-0.3.1 olefile-0.47 pydantic-2.10.5 pydantic-core-2.27.2 python-iso639-2024.10.22 python-magic-0.4.27 python-oxmsg-0.0.1 rapidfuzz-3.11.0 unstructured-0.16.13 unstructured-client-0.29.0\n",
      "Note: you may need to restart the kernel to use updated packages.\n"
     ]
    }
   ],
   "source": [
    "pip install -U unstructured"
   ]
  },
  {
   "cell_type": "code",
   "execution_count": 2,
   "id": "20bae4bc",
   "metadata": {},
   "outputs": [
    {
     "name": "stdout",
     "output_type": "stream",
     "text": [
      "Enter your Open API key: ········\n"
     ]
    }
   ],
   "source": [
    "import os\n",
    "import getpass\n",
    "\n",
    "os.environ['OPENAI_API_KEY'] = getpass.getpass(\"Enter your Open API key: \")"
   ]
  },
  {
   "cell_type": "code",
   "execution_count": 3,
   "id": "42a5eba2",
   "metadata": {},
   "outputs": [],
   "source": [
    "import nest_asyncio\n",
    "\n",
    "nest_asyncio.apply()"
   ]
  },
  {
   "cell_type": "code",
   "execution_count": 4,
   "id": "dfe2abd7",
   "metadata": {},
   "outputs": [],
   "source": [
    "# set text wrapping\n",
    "from IPython.display import HTML, display\n",
    "\n",
    "\n",
    "def set_css():\n",
    "    display(\n",
    "        HTML(\n",
    "            \"\"\"\n",
    "  \n",
    "    pre {\n",
    "        white-space: pre-wrap;\n",
    "    }\n",
    "  \n",
    "  \"\"\"\n",
    "        )\n",
    "    )\n",
    "\n",
    "\n",
    "get_ipython().events.register(\"pre_run_cell\", set_css)"
   ]
  },
  {
   "cell_type": "markdown",
   "id": "ab64bcd1",
   "metadata": {},
   "source": [
    "# Ingest Data"
   ]
  },
  {
   "cell_type": "code",
   "execution_count": 6,
   "id": "5e76499f",
   "metadata": {},
   "outputs": [
    {
     "data": {
      "text/html": [
       "\n",
       "  \n",
       "    pre {\n",
       "        white-space: pre-wrap;\n",
       "    }\n",
       "  \n",
       "  "
      ],
      "text/plain": [
       "<IPython.core.display.HTML object>"
      ]
     },
     "metadata": {},
     "output_type": "display_data"
    },
    {
     "name": "stdout",
     "output_type": "stream",
     "text": [
      "  % Total    % Received % Xferd  Average Speed   Time    Time     Time  Current\n",
      "                                 Dload  Upload   Total   Spent    Left  Speed\n",
      "100   125  100   125    0     0    652      0 --:--:-- --:--:-- --:--:--   679\n",
      "100    17  100    17    0     0     25      0 --:--:-- --:--:-- --:--:--    25\n",
      "100   475    0   475    0     0    496      0 --:--:-- --:--:-- --:--:--     0\n",
      "100 1777k  100 1777k    0     0  1409k      0  0:00:01  0:00:01 --:--:-- 1409k\n",
      "Archive:  data/UBER.zip\n",
      "   creating: data/UBER/\n",
      "  inflating: data/UBER/UBER_2021.html  \n",
      "  inflating: data/__MACOSX/UBER/._UBER_2021.html  \n",
      "  inflating: data/UBER/UBER_2020.html  \n",
      "  inflating: data/__MACOSX/UBER/._UBER_2020.html  \n",
      "  inflating: data/UBER/UBER_2019.html  \n",
      "  inflating: data/__MACOSX/UBER/._UBER_2019.html  \n",
      "  inflating: data/UBER/UBER_2022.html  \n",
      "  inflating: data/__MACOSX/UBER/._UBER_2022.html  \n"
     ]
    }
   ],
   "source": [
    "!mkdir -p data\n",
    "!curl -L \"https://www.dropbox.com/s/948jr9cfs7fgj99/UBER.zip?dl=1\" -o data/UBER.zip\n",
    "!unzip data/UBER.zip -d data\n"
   ]
  },
  {
   "cell_type": "markdown",
   "id": "fc961db1",
   "metadata": {},
   "source": [
    "#### Unstructured Library\n",
    "\n",
    "To parse the data, we use BeautifulSoup from bs4, which is a lightweight and flexible library for handling HTML content."
   ]
  },
  {
   "cell_type": "code",
   "execution_count": 12,
   "id": "5419954d",
   "metadata": {},
   "outputs": [
    {
     "data": {
      "text/html": [
       "\n",
       "  \n",
       "    pre {\n",
       "        white-space: pre-wrap;\n",
       "    }\n",
       "  \n",
       "  "
      ],
      "text/plain": [
       "<IPython.core.display.HTML object>"
      ]
     },
     "metadata": {},
     "output_type": "display_data"
    }
   ],
   "source": [
    "from bs4 import BeautifulSoup\n",
    "from pathlib import Path\n",
    "\n",
    "years = [2022, 2021, 2020, 2019]\n",
    "\n",
    "doc_set = {}\n",
    "all_docs = []\n",
    "\n",
    "# Function to parse HTML content\n",
    "def parse_html(file_path):\n",
    "    with open(file_path, \"r\", encoding=\"utf-8\") as f:\n",
    "        content = f.read()\n",
    "    soup = BeautifulSoup(content, \"html.parser\")\n",
    "    return soup.get_text()  # Extract plain text from HTML\n",
    "\n",
    "# Load data\n",
    "for year in years:\n",
    "    file_path = Path(f\"./data/UBER/UBER_{year}.html\")\n",
    "    if file_path.exists():\n",
    "        # Parse HTML and store the content\n",
    "        text = parse_html(file_path)\n",
    "        \n",
    "        # Create a document object\n",
    "        doc = {\n",
    "            \"content\": text,\n",
    "            \"metadata\": {\"year\": year}\n",
    "        }\n",
    "        \n",
    "        # Add document to sets\n",
    "        doc_set[year] = doc_set.get(year, []) + [doc]\n",
    "        all_docs.append(doc)\n",
    "    else:\n",
    "        print(f\"File not found: {file_path}\")\n",
    "\n"
   ]
  },
  {
   "cell_type": "markdown",
   "id": "ca65ec7e",
   "metadata": {},
   "source": [
    "# Setting up Vector Indices for each year\n",
    "\n",
    "We first setup a vector index for each year. Each vector index allows us to ask questions about the 10-K filing of a given year.\n",
    "\n",
    "We build each index and save it to disk.\n",
    "\n",
    "#### Do NOT run this code if vector indexes have been already created"
   ]
  },
  {
   "cell_type": "code",
   "execution_count": 15,
   "id": "450454af",
   "metadata": {},
   "outputs": [
    {
     "data": {
      "text/html": [
       "\n",
       "  \n",
       "    pre {\n",
       "        white-space: pre-wrap;\n",
       "    }\n",
       "  \n",
       "  "
      ],
      "text/plain": [
       "<IPython.core.display.HTML object>"
      ]
     },
     "metadata": {},
     "output_type": "display_data"
    }
   ],
   "source": [
    "from llama_index.core import VectorStoreIndex, StorageContext\n",
    "from llama_index.embeddings.openai import OpenAIEmbedding\n",
    "from llama_index.llms.openai import OpenAI\n",
    "from llama_index.core import Document\n",
    "from llama_index.core import Settings\n",
    "\n",
    "# Update Settings\n",
    "Settings.chunk_size = 512\n",
    "Settings.chunk_overlap = 64\n",
    "Settings.llm = OpenAI(model=\"gpt-4o-mini\")\n",
    "Settings.embed_model = OpenAIEmbedding(model=\"text-embedding-3-small\")\n",
    "\n",
    "# Initialize indices\n",
    "index_set = {}\n",
    "for year in years:\n",
    "    # Convert dictionaries to Document objects\n",
    "    documents = [\n",
    "        Document(text=doc[\"content\"], metadata=doc[\"metadata\"]) \n",
    "        for doc in doc_set[year]\n",
    "    ]\n",
    "    \n",
    "    storage_context = StorageContext.from_defaults()\n",
    "    cur_index = VectorStoreIndex.from_documents(\n",
    "        documents=documents,\n",
    "        storage_context=storage_context,\n",
    "    )\n",
    "    index_set[year] = cur_index\n",
    "    storage_context.persist(persist_dir=f\"./storage/{year}\")\n"
   ]
  },
  {
   "cell_type": "markdown",
   "id": "3a3de6f1",
   "metadata": {},
   "source": [
    "##### To load an index from disk, do the following"
   ]
  },
  {
   "cell_type": "code",
   "execution_count": 16,
   "id": "55f29cea",
   "metadata": {},
   "outputs": [
    {
     "data": {
      "text/html": [
       "\n",
       "  \n",
       "    pre {\n",
       "        white-space: pre-wrap;\n",
       "    }\n",
       "  \n",
       "  "
      ],
      "text/plain": [
       "<IPython.core.display.HTML object>"
      ]
     },
     "metadata": {},
     "output_type": "display_data"
    }
   ],
   "source": [
    "# Load indices from disk\n",
    "from llama_index.core import load_index_from_storage\n",
    "\n",
    "index_set = {}\n",
    "for year in years:\n",
    "    storage_context = StorageContext.from_defaults(\n",
    "        persist_dir=f\"./storage/{year}\"\n",
    "    )\n",
    "    cur_index = load_index_from_storage(\n",
    "        storage_context,\n",
    "    )\n",
    "    index_set[year] = cur_index"
   ]
  },
  {
   "cell_type": "markdown",
   "id": "c25e0263",
   "metadata": {},
   "source": [
    "# Setting up a Sub Question Query Engine\n",
    "\n",
    "Since we have access to documents of 4 years, we may not only want to ask questions regarding the 10-K document of a given year, but ask questions that require analysis over all 10-K filings.\n",
    "\n",
    "To address this, we can use a Sub Question Query Engine. It decomposes a query into subqueries, each answered by an individual vector index, and synthesizes the results to answer the overall query.\n",
    "\n",
    "LlamaIndex provides some wrappers around indices (and query engines) so that they can be used by query engines and agents. First we define a QueryEngineTool for each vector index. Each tool has a name and a description; these are what the LLM agent sees to decide which tool to choose.\n",
    "\n",
    "\n",
    "This code creates a list of QueryEngineTool objects, each associated with a specific year's SEC 10-K filing for Uber, using the vector indices previously created. Here's a breakdown of what each part does:\n",
    "\n"
   ]
  },
  {
   "cell_type": "code",
   "execution_count": 27,
   "id": "224026fb",
   "metadata": {},
   "outputs": [
    {
     "data": {
      "text/html": [
       "\n",
       "  \n",
       "    pre {\n",
       "        white-space: pre-wrap;\n",
       "    }\n",
       "  \n",
       "  "
      ],
      "text/plain": [
       "<IPython.core.display.HTML object>"
      ]
     },
     "metadata": {},
     "output_type": "display_data"
    },
    {
     "name": "stdout",
     "output_type": "stream",
     "text": [
      "Created query engine for 2022.\n",
      "ToolMetadata for 2022: ToolMetadata(description='Useful for when you want to answer queries about the 2022 SEC 10-K for Uber.', name='vector_index_2022', fn_schema=<class 'llama_index.core.tools.types.DefaultToolFnSchema'>, return_direct=False)\n",
      "Created QueryEngineTool for 2022: <llama_index.core.tools.query_engine.QueryEngineTool object at 0x2921b1d10>\n",
      "Added tool for 2022 to the list.\n",
      "\n",
      "Created query engine for 2021.\n",
      "ToolMetadata for 2021: ToolMetadata(description='Useful for when you want to answer queries about the 2021 SEC 10-K for Uber.', name='vector_index_2021', fn_schema=<class 'llama_index.core.tools.types.DefaultToolFnSchema'>, return_direct=False)\n",
      "Created QueryEngineTool for 2021: <llama_index.core.tools.query_engine.QueryEngineTool object at 0x28f0798d0>\n",
      "Added tool for 2021 to the list.\n",
      "\n",
      "Created query engine for 2020.\n",
      "ToolMetadata for 2020: ToolMetadata(description='Useful for when you want to answer queries about the 2020 SEC 10-K for Uber.', name='vector_index_2020', fn_schema=<class 'llama_index.core.tools.types.DefaultToolFnSchema'>, return_direct=False)\n",
      "Created QueryEngineTool for 2020: <llama_index.core.tools.query_engine.QueryEngineTool object at 0x28f078510>\n",
      "Added tool for 2020 to the list.\n",
      "\n",
      "Created query engine for 2019.\n",
      "ToolMetadata for 2019: ToolMetadata(description='Useful for when you want to answer queries about the 2019 SEC 10-K for Uber.', name='vector_index_2019', fn_schema=<class 'llama_index.core.tools.types.DefaultToolFnSchema'>, return_direct=False)\n",
      "Created QueryEngineTool for 2019: <llama_index.core.tools.query_engine.QueryEngineTool object at 0x28f078590>\n",
      "Added tool for 2019 to the list.\n",
      "\n",
      "All QueryEngineTools created: [<llama_index.core.tools.query_engine.QueryEngineTool object at 0x2921b1d10>, <llama_index.core.tools.query_engine.QueryEngineTool object at 0x28f0798d0>, <llama_index.core.tools.query_engine.QueryEngineTool object at 0x28f078510>, <llama_index.core.tools.query_engine.QueryEngineTool object at 0x28f078590>]\n"
     ]
    }
   ],
   "source": [
    "from llama_index.core.tools import QueryEngineTool, ToolMetadata\n",
    "\n",
    "individual_query_engine_tools = []\n",
    "\n",
    "for year in years:\n",
    "    # Step 1: Retrieve the query engine for the current year's vector index\n",
    "    query_engine = index_set[year].as_query_engine()\n",
    "    print(f\"Created query engine for {year}.\")\n",
    "\n",
    "    # Step 2: Define metadata for the query engine tool\n",
    "    metadata = ToolMetadata(\n",
    "        name=f\"vector_index_{year}\",\n",
    "        description=(\n",
    "            \"Useful for when you want to answer queries about the\"\n",
    "            f\" {year} SEC 10-K for Uber.\"\n",
    "        ),\n",
    "    )\n",
    "    print(f\"ToolMetadata for {year}: {metadata}\")\n",
    "\n",
    "    # Step 3: Create a QueryEngineTool for this year\n",
    "    tool = QueryEngineTool(\n",
    "        query_engine=query_engine,\n",
    "        metadata=metadata,\n",
    "    )\n",
    "    print(f\"Created QueryEngineTool for {year}: {tool}\")\n",
    "\n",
    "    # Step 4: Add the tool to the list\n",
    "    individual_query_engine_tools.append(tool)\n",
    "    print(f\"Added tool for {year} to the list.\\n\")\n",
    "\n",
    "# Final step: Print all tools created\n",
    "print(f\"All QueryEngineTools created: {individual_query_engine_tools}\")\n"
   ]
  },
  {
   "cell_type": "markdown",
   "id": "418e5bed",
   "metadata": {},
   "source": [
    "\n",
    "Now we can create the Sub Question Query Engine, which will allow us to synthesize answers across the 10-K filings. We pass in the individual_query_engine_tools we defined above."
   ]
  },
  {
   "cell_type": "code",
   "execution_count": 18,
   "id": "72fc827d",
   "metadata": {},
   "outputs": [
    {
     "data": {
      "text/html": [
       "\n",
       "  \n",
       "    pre {\n",
       "        white-space: pre-wrap;\n",
       "    }\n",
       "  \n",
       "  "
      ],
      "text/plain": [
       "<IPython.core.display.HTML object>"
      ]
     },
     "metadata": {},
     "output_type": "display_data"
    }
   ],
   "source": [
    "from llama_index.core.query_engine import SubQuestionQueryEngine\n",
    "\n",
    "query_engine = SubQuestionQueryEngine.from_defaults(\n",
    "    query_engine_tools=individual_query_engine_tools,\n",
    ")"
   ]
  },
  {
   "cell_type": "markdown",
   "id": "64b559ef",
   "metadata": {},
   "source": [
    "# Setting up the Chatbot Agent"
   ]
  },
  {
   "cell_type": "markdown",
   "id": "f80ccaca",
   "metadata": {},
   "source": [
    "We use a LlamaIndex Data Agent to setup the outer chatbot agent, which has access to a set of Tools. Specifically, we will use an OpenAIAgent, that takes advantage of OpenAI API function calling. We want to use the separate Tools we defined previously for each index (corresponding to a given year), as well as a tool for the sub question query engine we defined above.\n",
    "\n",
    "##### First we define a QueryEngineTool for the sub question query engine:"
   ]
  },
  {
   "cell_type": "code",
   "execution_count": 19,
   "id": "e712bd91",
   "metadata": {},
   "outputs": [
    {
     "data": {
      "text/html": [
       "\n",
       "  \n",
       "    pre {\n",
       "        white-space: pre-wrap;\n",
       "    }\n",
       "  \n",
       "  "
      ],
      "text/plain": [
       "<IPython.core.display.HTML object>"
      ]
     },
     "metadata": {},
     "output_type": "display_data"
    }
   ],
   "source": [
    "query_engine_tool = QueryEngineTool(\n",
    "    query_engine=query_engine,\n",
    "    metadata=ToolMetadata(\n",
    "        name=\"sub_question_query_engine\",\n",
    "        description=(\n",
    "            \"useful for when you want to answer queries that require analyzing\"\n",
    "            \" multiple SEC 10-K documents for Uber\"\n",
    "        ),\n",
    "    ),\n",
    ")"
   ]
  },
  {
   "cell_type": "markdown",
   "id": "b9cb71dd",
   "metadata": {},
   "source": [
    "##### We now combine the Tools we defined above into a single list of tools for the agent:"
   ]
  },
  {
   "cell_type": "code",
   "execution_count": 20,
   "id": "e5997a8c",
   "metadata": {},
   "outputs": [
    {
     "data": {
      "text/html": [
       "\n",
       "  \n",
       "    pre {\n",
       "        white-space: pre-wrap;\n",
       "    }\n",
       "  \n",
       "  "
      ],
      "text/plain": [
       "<IPython.core.display.HTML object>"
      ]
     },
     "metadata": {},
     "output_type": "display_data"
    }
   ],
   "source": [
    "tools = individual_query_engine_tools + [query_engine_tool]"
   ]
  },
  {
   "cell_type": "markdown",
   "id": "fe99fc8a",
   "metadata": {},
   "source": [
    "##### we call OpenAIAgent.from_tools to create the agent, passing in the list of tools we defined above."
   ]
  },
  {
   "cell_type": "code",
   "execution_count": 21,
   "id": "dd973b67",
   "metadata": {},
   "outputs": [
    {
     "data": {
      "text/html": [
       "\n",
       "  \n",
       "    pre {\n",
       "        white-space: pre-wrap;\n",
       "    }\n",
       "  \n",
       "  "
      ],
      "text/plain": [
       "<IPython.core.display.HTML object>"
      ]
     },
     "metadata": {},
     "output_type": "display_data"
    }
   ],
   "source": [
    "from llama_index.agent.openai import OpenAIAgent\n",
    "\n",
    "agent = OpenAIAgent.from_tools(tools, verbose=True)"
   ]
  },
  {
   "cell_type": "markdown",
   "id": "26a11985",
   "metadata": {},
   "source": [
    "# Testing the Agent"
   ]
  },
  {
   "cell_type": "code",
   "execution_count": 22,
   "id": "0449b741",
   "metadata": {},
   "outputs": [
    {
     "data": {
      "text/html": [
       "\n",
       "  \n",
       "    pre {\n",
       "        white-space: pre-wrap;\n",
       "    }\n",
       "  \n",
       "  "
      ],
      "text/plain": [
       "<IPython.core.display.HTML object>"
      ]
     },
     "metadata": {},
     "output_type": "display_data"
    },
    {
     "name": "stdout",
     "output_type": "stream",
     "text": [
      "Added user message to memory: Good morning, this is Varun\n",
      "Good morning, Varun! How can I assist you today?\n"
     ]
    }
   ],
   "source": [
    "response = agent.chat(\"Good morning, this is Varun\")\n",
    "print(str(response))"
   ]
  },
  {
   "cell_type": "code",
   "execution_count": 23,
   "id": "ec3f9c81",
   "metadata": {},
   "outputs": [
    {
     "data": {
      "text/html": [
       "\n",
       "  \n",
       "    pre {\n",
       "        white-space: pre-wrap;\n",
       "    }\n",
       "  \n",
       "  "
      ],
      "text/plain": [
       "<IPython.core.display.HTML object>"
      ]
     },
     "metadata": {},
     "output_type": "display_data"
    },
    {
     "name": "stdout",
     "output_type": "stream",
     "text": [
      "Added user message to memory: What were some of the biggest risk factors in 2020 for Uber?\n",
      "=== Calling Function ===\n",
      "Calling function: vector_index_2020 with args: {\"input\":\"biggest risk factors\"}\n",
      "Got output: The biggest risk factors include the ongoing impact of the COVID-19 pandemic, which has adversely affected various aspects of the business and may continue to do so. Additionally, the potential classification of Drivers as employees rather than independent contractors poses a significant risk. The competitive landscape in the mobility, delivery, and logistics industries is also a concern, characterized by well-established alternatives, low barriers to entry, and strong competitors. Furthermore, the need to lower fares or service fees to remain competitive, along with the history of incurring significant losses, adds to the overall risk profile.\n",
      "========================\n",
      "\n",
      "In 2020, some of the biggest risk factors for Uber included:\n",
      "\n",
      "1. **COVID-19 Pandemic**: The ongoing impact of the pandemic adversely affected various aspects of the business and was expected to continue doing so.\n",
      "\n",
      "2. **Classification of Drivers**: There was a significant risk related to the potential classification of drivers as employees rather than independent contractors, which could impact operational costs and business model.\n",
      "\n",
      "3. **Competitive Landscape**: The mobility, delivery, and logistics industries were highly competitive, with well-established alternatives, low barriers to entry, and strong competitors posing challenges.\n",
      "\n",
      "4. **Pricing Pressure**: The need to lower fares or service fees to remain competitive added to the risk, especially given the history of incurring significant losses.\n",
      "\n",
      "These factors contributed to a complex risk environment for Uber during that year.\n"
     ]
    }
   ],
   "source": [
    "response = agent.chat(\n",
    "    \"What were some of the biggest risk factors in 2020 for Uber?\"\n",
    ")\n",
    "print(str(response))"
   ]
  },
  {
   "cell_type": "code",
   "execution_count": 28,
   "id": "02a8d5b9",
   "metadata": {},
   "outputs": [
    {
     "data": {
      "text/html": [
       "\n",
       "  \n",
       "    pre {\n",
       "        white-space: pre-wrap;\n",
       "    }\n",
       "  \n",
       "  "
      ],
      "text/plain": [
       "<IPython.core.display.HTML object>"
      ]
     },
     "metadata": {},
     "output_type": "display_data"
    },
    {
     "name": "stdout",
     "output_type": "stream",
     "text": [
      "Added user message to memory: What were some of the biggest risk factors in 2026 for Uber?\n",
      "=== Calling Function ===\n",
      "Calling function: vector_index_2022 with args: {\"input\":\"biggest risk factors in 2026\"}\n",
      "Got output: The biggest risk factors in 2026 could include the ongoing challenges related to climate commitments, such as changing regulations, technological advancements, and the availability of electric vehicles and charging infrastructure. Additionally, the potential for future pandemics or outbreaks of contagious diseases, along with the impacts of catastrophic events like natural disasters or geopolitical conflicts, could significantly affect business operations and financial conditions. Economic uncertainties, including the ability to secure financing and the performance of third-party vendors, may also pose substantial risks.\n",
      "========================\n",
      "\n",
      "In 2026, some of the biggest risk factors for Uber may include:\n",
      "\n",
      "1. **Climate Commitments**: Ongoing challenges related to compliance with changing regulations regarding climate commitments, as well as the availability of electric vehicles (EVs) and charging infrastructure.\n",
      "\n",
      "2. **Future Pandemics**: The potential for future pandemics or outbreaks of contagious diseases that could disrupt operations and affect consumer behavior.\n",
      "\n",
      "3. **Catastrophic Events**: Risks associated with catastrophic events, such as natural disasters or geopolitical conflicts, which could significantly impact business operations and financial conditions.\n",
      "\n",
      "4. **Economic Uncertainties**: Economic uncertainties, including challenges in securing financing and the performance of third-party vendors, may pose substantial risks to the business.\n",
      "\n",
      "These factors highlight the evolving and complex risk landscape that Uber may face in 2026, requiring ongoing adaptation and strategic planning.\n"
     ]
    }
   ],
   "source": [
    "response = agent.chat(\n",
    "    \"What were some of the biggest risk factors in 2026 for Uber?\"\n",
    ")\n",
    "print(str(response))"
   ]
  },
  {
   "cell_type": "code",
   "execution_count": 25,
   "id": "0ec2c32f",
   "metadata": {},
   "outputs": [
    {
     "data": {
      "text/html": [
       "\n",
       "  \n",
       "    pre {\n",
       "        white-space: pre-wrap;\n",
       "    }\n",
       "  \n",
       "  "
      ],
      "text/plain": [
       "<IPython.core.display.HTML object>"
      ]
     },
     "metadata": {},
     "output_type": "display_data"
    },
    {
     "name": "stdout",
     "output_type": "stream",
     "text": [
      "Added user message to memory: What were the main drivers of Uber's revenue growth or decline in 2021 compared to 2020??\n",
      "=== Calling Function ===\n",
      "Calling function: sub_question_query_engine with args: {\"input\":\"main drivers of Uber's revenue growth or decline in 2021 compared to 2020\"}\n",
      "Generated 7 sub questions.\n",
      "\u001b[1;3;38;2;237;90;200m[vector_index_2021] Q: What were the key revenue figures for Uber in 2021 as reported in the 2021 SEC 10-K?\n",
      "\u001b[0m\u001b[1;3;38;2;90;149;237m[vector_index_2020] Q: What were the key revenue figures for Uber in 2020 as reported in the 2020 SEC 10-K?\n",
      "\u001b[0m\u001b[1;3;38;2;11;159;203m[vector_index_2021] Q: What factors contributed to revenue growth for Uber in 2021 according to the 2021 SEC 10-K?\n",
      "\u001b[0m\u001b[1;3;38;2;155;135;227m[vector_index_2021] Q: What factors contributed to revenue decline for Uber in 2021 according to the 2021 SEC 10-K?\n",
      "\u001b[0m\u001b[1;3;38;2;237;90;200m[vector_index_2021] Q: How did Uber's business segments perform in 2021 compared to 2020 as per the 2021 SEC 10-K?\n",
      "\u001b[0m\u001b[1;3;38;2;90;149;237m[vector_index_2021] Q: What were the major challenges faced by Uber in 2021 that could have impacted revenue as per the 2021 SEC 10-K?\n",
      "\u001b[0m\u001b[1;3;38;2;11;159;203m[vector_index_2021] Q: What trends in the ride-sharing market in 2021 affected Uber's revenue compared to 2020?\n",
      "\u001b[0m\u001b[1;3;38;2;237;90;200m[vector_index_2021] A: In 2021, Uber reported revenue of $17.5 billion, which represented a 57% increase year-over-year. This growth was primarily driven by a significant increase in Gross Bookings, which rose by $32.5 billion, or 56%, compared to 2020. The Delivery Gross Bookings specifically grew by 66% on a constant currency basis, attributed to a rise in food delivery orders and higher basket sizes due to COVID-19-related stay-at-home demands. Additionally, the company experienced growth in Freight revenue following the acquisition of Transplace in the fourth quarter of 2021.\n",
      "\u001b[0m\u001b[1;3;38;2;90;149;237m[vector_index_2021] A: In 2021, Uber faced significant challenges related to the potential misclassification of Drivers as employees, which could lead to a loss of flexibility for them and impact the company's ability to maintain an adequate Driver supply. This situation could result in Drivers opting out of the platform, negatively affecting the business's operations, financial position, and cash flows. Additionally, if Drivers were required to be classified as employees, it could alter the financial statement presentation, including revenue and costs associated with incentives and promotions. These factors posed risks that could materially affect Uber's revenue and overall financial performance.\n",
      "\u001b[0m\u001b[1;3;38;2;155;135;227m[vector_index_2021] A: The information provided does not indicate any factors that contributed to a revenue decline for Uber in 2021. In fact, it highlights a significant increase in revenue, attributed to a rise in Gross Bookings and an increase in Delivery Gross Bookings driven by higher food delivery orders and market expansion. Therefore, there are no specified factors leading to a revenue decline in that year.\n",
      "\u001b[0m\u001b[1;3;38;2;90;149;237m[vector_index_2020] A: In 2020, Uber reported a decline in Overall Gross Bookings of $7.1 billion, which represented an 11% decrease compared to 2019. Additionally, the net loss attributable to Uber Technologies, Inc. was significant, with a net loss per share of $(2.23) for basic shares and $(2.26) for diluted shares. The financial performance reflected the challenges faced during the year, including adjustments to revenue and cost of revenue due to changes in accounting policy.\n",
      "\u001b[0m\u001b[1;3;38;2;237;90;200m[vector_index_2021] A: In 2021, Uber's business segments showed significant growth compared to 2020. Overall Gross Bookings increased by $32.5 billion, representing a 56% rise. Delivery Gross Bookings grew by 66%, driven by an increase in food delivery orders and higher basket sizes, while Mobility Gross Bookings saw a 36% increase due to rising trip volumes as the business recovered from the impacts of COVID-19.\n",
      "\n",
      "Revenue for the year reached $17.5 billion, up 57% year-over-year, largely due to the growth in the Delivery segment and an increase in Freight revenue following the acquisition of Transplace. The Mobility segment achieved an Adjusted EBITDA profit of $1.6 billion, while the Delivery segment improved its Adjusted EBITDA loss to $348 million from a loss of $873 million in the previous year. Overall, the Adjusted EBITDA loss for the company improved significantly, decreasing from $2.528 billion in 2020 to $774 million in 2021.\n",
      "\u001b[0m\u001b[1;3;38;2;11;159;203m[vector_index_2021] A: Revenue growth for Uber in 2021 was primarily driven by a significant increase in Gross Bookings, which rose by 56%, or 53% on a constant currency basis. This growth was largely attributed to a 71% increase in Delivery Gross Bookings, fueled by a rise in food delivery orders and higher basket sizes due to stay-at-home demand related to COVID-19. Additionally, the continued expansion across U.S. and international markets contributed to this growth. There was also an increase in Freight revenue, which was linked to the acquisition of Transplace and growth in the number of shippers and carriers on the network, along with increased volumes with top shippers.\n",
      "\u001b[0m\u001b[1;3;38;2;11;159;203m[vector_index_2021] A: In 2021, the ride-sharing market experienced a recovery from the impacts of COVID-19, which positively influenced Uber's revenue. Specifically, Mobility Gross Bookings grew by 36% on a constant currency basis compared to 2020, driven by an increase in trip volumes as demand for ride-sharing services rebounded. This recovery, alongside the overall growth in the Delivery business, contributed to a significant increase in Uber's revenue, which reached $17.5 billion, reflecting a 57% year-over-year growth. The combination of recovering mobility demand and the expansion of delivery services played a crucial role in enhancing Uber's financial performance in 2021.\n",
      "\u001b[0mGot output: The main drivers of Uber's revenue growth in 2021 compared to 2020 included a significant increase in Gross Bookings, which rose by 56%, largely fueled by a 71% increase in Delivery Gross Bookings. This growth was attributed to a rise in food delivery orders and higher basket sizes due to COVID-19-related stay-at-home demands. Additionally, the recovery in the Mobility segment, with a 36% increase in Gross Bookings driven by rising trip volumes, contributed to the overall revenue growth. The acquisition of Transplace also played a role in boosting Freight revenue. Overall, these factors combined led to a substantial increase in revenue, reaching $17.5 billion, a 57% rise year-over-year. There were no reported factors contributing to a revenue decline in 2021.\n",
      "========================\n",
      "\n",
      "In 2021, Uber experienced significant revenue growth compared to 2020, driven by several key factors:\n",
      "\n",
      "1. **Increase in Gross Bookings**: Gross Bookings rose by 56%, which was a major contributor to revenue growth.\n",
      "\n",
      "2. **Delivery Segment Growth**: Delivery Gross Bookings increased by 71%, largely due to a rise in food delivery orders and higher basket sizes, driven by COVID-19-related stay-at-home demands.\n",
      "\n",
      "3. **Recovery in Mobility Segment**: The Mobility segment saw a 36% increase in Gross Bookings, attributed to rising trip volumes as restrictions eased and consumer demand returned.\n",
      "\n",
      "4. **Acquisition of Transplace**: This acquisition contributed to boosting Freight revenue, further enhancing overall revenue growth.\n",
      "\n",
      "As a result of these factors, Uber's total revenue reached $17.5 billion in 2021, marking a 57% rise year-over-year. There were no reported factors contributing to a revenue decline in 2021.\n"
     ]
    }
   ],
   "source": [
    "response = agent.chat(\n",
    "    \"What were the main drivers of Uber's revenue growth or decline in 2021 compared to 2020??\"\n",
    ")\n",
    "print(str(response))"
   ]
  },
  {
   "cell_type": "code",
   "execution_count": 26,
   "id": "dff5e2ee",
   "metadata": {},
   "outputs": [
    {
     "data": {
      "text/html": [
       "\n",
       "  \n",
       "    pre {\n",
       "        white-space: pre-wrap;\n",
       "    }\n",
       "  \n",
       "  "
      ],
      "text/plain": [
       "<IPython.core.display.HTML object>"
      ]
     },
     "metadata": {},
     "output_type": "display_data"
    },
    {
     "name": "stdout",
     "output_type": "stream",
     "text": [
      "Added user message to memory: How did the COVID-19 pandemic impact Uber’s operations?\n",
      "=== Calling Function ===\n",
      "Calling function: vector_index_2021 with args: {\"input\":\"impact of COVID-19 pandemic on Uber's operations\"}\n",
      "Got output: The COVID-19 pandemic has significantly impacted Uber's operations by altering market and economic conditions globally. It has led to a reduction in demand for Mobility rides due to various governmental restrictions, including emergency declarations, business closures, and limitations on gatherings. This has resulted in driver supply constraints, as concerns regarding the pandemic affect driver availability.\n",
      "\n",
      "In response to these challenges, Uber has prioritized the health and safety of its consumers, drivers, and employees, while also focusing on preserving liquidity and managing cash flow. The pandemic has accelerated the growth of Uber's Delivery offerings, as demand for these services has increased. To comply with social distancing guidelines, Uber temporarily suspended its shared rides and implemented \"leave at door\" delivery options. As vaccination rates rise, there is a recovery in consumer demand for Mobility, although it is still outpaced by driver availability.\n",
      "========================\n",
      "\n",
      "The COVID-19 pandemic significantly impacted Uber's operations in several ways:\n",
      "\n",
      "1. **Reduction in Mobility Demand**: The pandemic led to a decrease in demand for Mobility rides due to governmental restrictions, emergency declarations, business closures, and limitations on gatherings.\n",
      "\n",
      "2. **Driver Supply Constraints**: Concerns regarding the pandemic affected driver availability, resulting in constraints on the supply of drivers.\n",
      "\n",
      "3. **Health and Safety Prioritization**: Uber focused on prioritizing the health and safety of consumers, drivers, and employees. This included implementing safety measures and protocols.\n",
      "\n",
      "4. **Liquidity and Cash Flow Management**: The company concentrated on preserving liquidity and managing cash flow to navigate the challenging economic conditions.\n",
      "\n",
      "5. **Growth of Delivery Services**: The pandemic accelerated the growth of Uber's Delivery offerings, as demand for food and package delivery services increased significantly.\n",
      "\n",
      "6. **Changes to Service Offerings**: To comply with social distancing guidelines, Uber temporarily suspended its shared rides and introduced \"leave at door\" delivery options to enhance safety.\n",
      "\n",
      "7. **Recovery in Mobility Demand**: As vaccination rates rose, there was a gradual recovery in consumer demand for Mobility services, although this recovery was still outpaced by driver availability.\n",
      "\n",
      "Overall, the pandemic prompted Uber to adapt its operations and focus on new growth areas while addressing the challenges posed by the crisis.\n"
     ]
    }
   ],
   "source": [
    "response = agent.chat(\n",
    "    \"How did the COVID-19 pandemic impact Uber’s operations?\"\n",
    ")\n",
    "print(str(response))\n"
   ]
  },
  {
   "cell_type": "code",
   "execution_count": null,
   "id": "20c391a8",
   "metadata": {},
   "outputs": [],
   "source": []
  }
 ],
 "metadata": {
  "kernelspec": {
   "display_name": "Python 3 (ipykernel)",
   "language": "python",
   "name": "python3"
  },
  "language_info": {
   "codemirror_mode": {
    "name": "ipython",
    "version": 3
   },
   "file_extension": ".py",
   "mimetype": "text/x-python",
   "name": "python",
   "nbconvert_exporter": "python",
   "pygments_lexer": "ipython3",
   "version": "3.11.4"
  }
 },
 "nbformat": 4,
 "nbformat_minor": 5
}
